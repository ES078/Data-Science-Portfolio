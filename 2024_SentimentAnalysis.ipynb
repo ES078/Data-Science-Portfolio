{
  "cells": [
    {
      "cell_type": "markdown",
      "metadata": {
        "id": "view-in-github",
        "colab_type": "text"
      },
      "source": [
        "<a href=\"https://colab.research.google.com/github/ES078/Data-Science-Portfolio/blob/main/2024_SentimentAnalysis.ipynb\" target=\"_parent\"><img src=\"https://colab.research.google.com/assets/colab-badge.svg\" alt=\"Open In Colab\"/></a>"
      ]
    },
    {
      "cell_type": "markdown",
      "metadata": {
        "id": "HI5VD13M8fY6"
      },
      "source": [
        "# Get Data and import libraries that we need"
      ]
    },
    {
      "cell_type": "markdown",
      "metadata": {
        "id": "eMwtYRl71geH"
      },
      "source": [
        "Version of this jupyter notebook: sentimentanalysis_V2.4"
      ]
    },
    {
      "cell_type": "code",
      "execution_count": null,
      "metadata": {
        "id": "LdLsVQjs8R-X"
      },
      "outputs": [],
      "source": [
        "# Define where we will download the data\n",
        "path_data = \"/content/sample_data\""
      ]
    },
    {
      "cell_type": "markdown",
      "metadata": {
        "id": "ni_sKSOI8uZJ"
      },
      "source": [
        "Download the data"
      ]
    },
    {
      "cell_type": "code",
      "execution_count": null,
      "metadata": {
        "colab": {
          "base_uri": "https://localhost:8080/"
        },
        "id": "cSPQApSIqEL9",
        "outputId": "83dda634-f759-4ac7-c3b5-e9e22bd136cb"
      },
      "outputs": [
        {
          "output_type": "stream",
          "name": "stdout",
          "text": [
            "--2024-12-03 15:27:26--  http://ai.stanford.edu/~amaas/data/sentiment/aclImdb_v1.tar.gz\n",
            "Resolving ai.stanford.edu (ai.stanford.edu)... 171.64.68.10\n",
            "Connecting to ai.stanford.edu (ai.stanford.edu)|171.64.68.10|:80... connected.\n",
            "HTTP request sent, awaiting response... 416 Requested Range Not Satisfiable\n",
            "\n",
            "    The file is already fully retrieved; nothing to do.\n",
            "\n"
          ]
        }
      ],
      "source": [
        "!wget -P /content/sample_data/ -c \"http://ai.stanford.edu/~amaas/data/sentiment/aclImdb_v1.tar.gz\""
      ]
    },
    {
      "cell_type": "markdown",
      "metadata": {
        "id": "t1Ka_9Fk80iw"
      },
      "source": [
        "Decompress the archive"
      ]
    },
    {
      "cell_type": "code",
      "execution_count": null,
      "metadata": {
        "id": "HyPwL6EYq-ej"
      },
      "outputs": [],
      "source": [
        "!tar -xf  /content/sample_data/aclImdb_v1.tar.gz -C /content/sample_data/"
      ]
    },
    {
      "cell_type": "markdown",
      "metadata": {
        "id": "mksTVcHZ9MQ-"
      },
      "source": [
        "Check that the folder aclImdb exists"
      ]
    },
    {
      "cell_type": "code",
      "execution_count": null,
      "metadata": {
        "colab": {
          "base_uri": "https://localhost:8080/"
        },
        "id": "xt0S2EZErSi0",
        "outputId": "9a79f514-b701-42dd-e2c5-c095eb64d6fd"
      },
      "outputs": [
        {
          "output_type": "stream",
          "name": "stdout",
          "text": [
            "aclImdb\t\t   anscombe.json\t\tcalifornia_housing_train.csv  mnist_train_small.csv\n",
            "aclImdb_v1.tar.gz  california_housing_test.csv\tmnist_test.csv\t\t      README.md\n"
          ]
        }
      ],
      "source": [
        "!ls /content/sample_data/"
      ]
    },
    {
      "cell_type": "markdown",
      "metadata": {
        "id": "BZpg6f1u9W76"
      },
      "source": [
        "Import all required libraries"
      ]
    },
    {
      "cell_type": "code",
      "execution_count": null,
      "metadata": {
        "id": "5bZ5Cng09LEl"
      },
      "outputs": [],
      "source": [
        "import pandas as pd\n",
        "import numpy as np\n",
        "import os\n",
        "from bs4 import BeautifulSoup\n",
        "from nltk import word_tokenize\n",
        "from nltk.corpus import stopwords\n",
        "from nltk.stem import WordNetLemmatizer\n",
        "import re\n",
        "import nltk\n",
        "from gensim.models import Word2Vec, Phrases\n",
        "import matplotlib.pyplot as plt\n",
        "\n",
        "import tensorflow as tf\n",
        "from keras.utils import pad_sequences"
      ]
    },
    {
      "cell_type": "markdown",
      "metadata": {
        "id": "wytbs1XU9zgG"
      },
      "source": [
        "Define function that reads all the files from a given folder"
      ]
    },
    {
      "cell_type": "code",
      "execution_count": null,
      "metadata": {
        "id": "zEpWeGRq2QYd"
      },
      "outputs": [],
      "source": [
        "def read_data(path, files):\n",
        "    data = []\n",
        "    for f in files:\n",
        "        with open(path + f) as file:\n",
        "            ### BEGIN YOUR CODE HERE\n",
        "            line = file.readline()\n",
        "            data.append(line)\n",
        "            ### END YOUR CODE HERE\n",
        "    return data"
      ]
    },
    {
      "cell_type": "markdown",
      "metadata": {
        "id": "2zF9Dz-E-NQv"
      },
      "source": [
        "Load data (movie reviews), both for train and test"
      ]
    },
    {
      "cell_type": "code",
      "execution_count": null,
      "metadata": {
        "id": "oRmD7SSBrr71"
      },
      "outputs": [],
      "source": [
        "path_data_train_pos = path_data + '/aclImdb/train/pos/'\n",
        "path_data_train_neg = path_data + '/aclImdb/train/neg/'\n",
        "path_data_test_pos = path_data + '/aclImdb/test/pos/'\n",
        "path_data_test_neg = path_data + '/aclImdb/test/neg/'\n",
        "\n",
        "# Get the list of files from the four folders\n",
        "train_pos_files = os.listdir(path_data_train_pos)\n",
        "train_neg_files = os.listdir(path_data_train_neg)\n",
        "test_pos_files = os.listdir(path_data_test_pos)\n",
        "test_neg_files = os.listdir(path_data_test_neg)"
      ]
    },
    {
      "cell_type": "code",
      "execution_count": null,
      "metadata": {
        "colab": {
          "base_uri": "https://localhost:8080/"
        },
        "id": "l-OHWFG92TV_",
        "outputId": "71848ef7-3714-43ab-981b-182988566568"
      },
      "outputs": [
        {
          "output_type": "stream",
          "name": "stdout",
          "text": [
            "Number of positive reviews in training set: 12500\n",
            "Number of negative reviews in training set: 12500\n",
            "Number of positive reviews in testing set: 12500\n",
            "Number of negative reviews in testing set: 12500\n",
            "The dataset is balanced.\n",
            "\n",
            "Example of a positive review from training set:\n",
            "Bizarre horror movie filled with famous faces but stolen by Cristina Raines (later of TV's \"Flamingo Road\") as a pretty but somewhat unstable model with a gummy smile who is slated to pay for her attempted suicides by guarding the Gateway to Hell! The scenes with Raines modeling are very well captured, the mood music is perfect, Deborah Raffin is charming as Cristina's pal, but when Raines moves into a creepy Brooklyn Heights brownstone (inhabited by a blind priest on the top floor), things really start cooking. The neighbors, including a fantastically wicked Burgess Meredith and kinky couple Sylvia Miles & Beverly D'Angelo, are a diabolical lot, and Eli Wallach is great fun as a wily police detective. The movie is nearly a cross-pollination of \"Rosemary's Baby\" and \"The Exorcist\"--but what a combination! Based on the best-seller by Jeffrey Konvitz, \"The Sentinel\" is entertainingly spooky, full of shocks brought off well by director Michael Winner, who mounts a thoughtfully downbeat ending with skill. ***1/2 from ****\n",
            "\n",
            "Example of a negative review from training set:\n",
            "- Bad Stuff: This movie is real crap. Bad stunts for one thing, they looked so fake I thought this was \"The Twilight Zone\". The flashbacks are pretty much useless. One part of the movie he thinks taking his anger out on a window will make his life better. I wanna know the casting director and if he was high because the acting, even from the adults was horrid. A kissing scene in this movie even sucked. This movie killed the book. The book was great. I highly do not recommend this movie. Not even for educational purposes. <br /><br />- Good Stuff: I don't know what I can say really. There is some suspense parts that get you going, but they are quickly shot down by the bad stunt work and acting. <br /><br />- My Verdict: Do not watch.\n",
            "\n",
            "Example of a positive review from testing set:\n",
            "I rented this movie for two reasons. The first was all of the good things that I read about it. I definately was impressed, and couldn't agree more with all of the reviews I read. The second reason is because I know these guys. I don't know Mark as well as I do Mike. He hasn't changed much from the years we knew each other. I know him as \"the reaper\" from a local Milwaukee radio station (WMSE). The way he is in this film is genuinely Mike 100%. He once gave me a table that he made. It was a little one, about 15\" high, that said Metallica on it. The odd thing about it was it only had two legs. Sometimes it's the thought that counts, and Mike always has thought about others first.\n",
            "\n",
            "Example of a negative review from testing set:\n",
            "\"The Wizard of Menlo Park\" was deeply responsible for many things we take for granted in 2007: even if he did not invent them without rivals or assistants, he gave birth to the electric light, the phonograph, the motion picture camera, the electric car battery, the electric power grid (possibly his most important but least recalled invention), the pre-fabricated house, and innovations to the telephone and telegraph, as well as the ticker-tape machine and an early voting machine. The total number of patents is over 1,000 - far more than any other American Inventor.<br /><br />But Edison was a ruthless business competitor. He frequently had vast legal fights over the precedence of his inventions over rivals. The best example is the telephone, where he was one of seven or eight rivals with claims against Alexander Graham Bell. Actually Edison's invention here was not the central idea that Bell and Gray had come up with independently of each other in 1876, but an improvement on the sound quality of the phone receiver and transmitter that Bell did not develop. Still it was part of the huge 1888 Supreme Court decision that was the longest U.S. Supreme Court decision (a single volume of their reports!) written by Chief Justice Morrison Waite - which, by the way, killed the poor Chief Justice from overwork within weeks of completing it.<br /><br />In 1886 Edison found an equally ruthless competitor in the area of electric power grids for large cities. This was George Westinghouse, inventor of the railroad air break. Westinghouse's firm had gotten the assistance of a new inventor, and former Edison assistant, Nicola Tesla. Tesla developed \"alternating current\", which was a rival system to Edison's \"direct current\". Edison's system was basically a straight circuit system of electricity. Tesla's system allowed the current to be switched from one circuit to another - actually it was a better, and more efficient system. But Edison was determined to break this rival by a publicity campaign.<br /><br />It started with electric power lines. Edison early on had his lines put underground, so that they would not be endangered by weather conditions. But Westinghouse was forced to have his lines out in the open - like telephone lines. When there were several accidental deaths by repair linemen on Westinghouse's lines (in particular one incident where the repairman was burned alive in front of hundreds of horrified onlookers in Manhattan's business district), Edison started insisting that A.C. current was far more dangerous that D.C.<br /><br />One result of all this was Edison helping some subsidiary inventors with getting Westinghouse A.C. generators and dynamos for an electric chair. Edison himself always denied that he invented the electric chair, but he helped several lesser figures along the way - for the complete story read Mark Essig's EDISON & THE ELECTRIC CHAIR (New York: WALKER & COMPANY, 2003). <br /><br />Edison experiment himself with cats and dogs (experiments he was glad to show the public). In the long run, despite assisting in the invention of a new method of execution, Edison failed to dislodge the public support of Alternating Current. But he never stopped trying.<br /><br />In 1903 he had an opportunity to combine his campaign against Westinghouse and A.C. with his invention of the motion picture camera. He assisted in \"putting down\" a well known public elephant (\"Topsy\") who had killed several men. He did so by electrocuting the poor beast with A.C. But the entire killing is on film - and one can view it to this day. It is a pitiful looking film - whatever poor \"Topsy\" had done it was a poor beast - not a Machiavellian murderer. The moment we see the explosions of electricity sparks that show the death of the elephant, we are aware it will soon be over, but the sudden collapse of \"Topsy\" is still an unpleasant sight to view. The film leaves a bad flavor in the mouths of modern movie audiences. Yet, sad to say, it probably made a profit for Edison - his description of the film in his catalog of films shows real pride in his accomplishment here. In 1903 it may have been exciting entertainment for many Americans watching it. One is glad that more people are appalled by it today - sometimes one can sense the human race has improved a little bit.\n"
          ]
        }
      ],
      "source": [
        "### BEGIN YOUR CODE HERE\n",
        "\n",
        "# Read the data using the read_data() function\n",
        "train_data_pos = read_data(path_data_train_pos, train_pos_files)\n",
        "train_data_neg = read_data(path_data_train_neg, train_neg_files)\n",
        "test_data_pos = read_data(path_data_test_pos, test_pos_files)\n",
        "test_data_neg = read_data(path_data_test_neg, test_neg_files)\n",
        "\n",
        "# 1a. How many examples do we have in training for positive reviews? How many for negative reviews?\n",
        "num_train_pos = len(train_data_pos)\n",
        "num_train_neg = len(train_data_neg)\n",
        "\n",
        "print(f\"Number of positive reviews in training set: {num_train_pos}\")\n",
        "print(f\"Number of negative reviews in training set: {num_train_neg}\")\n",
        "\n",
        "# 1b. How many examples do we have in the testing set?\n",
        "num_test_pos = len(test_data_pos)\n",
        "num_test_neg = len(test_data_neg)\n",
        "\n",
        "print(f\"Number of positive reviews in testing set: {num_test_pos}\")\n",
        "print(f\"Number of negative reviews in testing set: {num_test_neg}\")\n",
        "\n",
        "# 1c. Is the dataset balanced or not?\n",
        "if num_train_pos == num_train_neg and num_test_pos == num_test_neg:\n",
        "    print(\"The dataset is balanced.\")\n",
        "else:\n",
        "    print(\"The dataset is not balanced.\")\n",
        "\n",
        "# 2. Print examples of positive and negative reviews from training and testing datasets\n",
        "print(\"\\nExample of a positive review from training set:\")\n",
        "print(train_data_pos[0] if train_data_pos else \"No data available\")\n",
        "\n",
        "print(\"\\nExample of a negative review from training set:\")\n",
        "print(train_data_neg[0] if train_data_neg else \"No data available\")\n",
        "\n",
        "print(\"\\nExample of a positive review from testing set:\")\n",
        "print(test_data_pos[0] if test_data_pos else \"No data available\")\n",
        "\n",
        "print(\"\\nExample of a negative review from testing set:\")\n",
        "print(test_data_neg[0] if test_data_neg else \"No data available\")\n",
        "\n",
        "### END YOUR CODE HERE"
      ]
    },
    {
      "cell_type": "code",
      "execution_count": null,
      "metadata": {
        "colab": {
          "base_uri": "https://localhost:8080/"
        },
        "id": "ONyrIyabhfx_",
        "outputId": "8845a450-c21b-4833-f352-a33a06de0cbd"
      },
      "outputs": [
        {
          "output_type": "stream",
          "name": "stdout",
          "text": [
            "Using 2000 samples for each category:\n",
            "Train positive reviews: 2000\n",
            "Train negative reviews: 2000\n",
            "Test positive reviews: 2000\n",
            "Test negative reviews: 2000\n"
          ]
        }
      ],
      "source": [
        "# Toggle between using a subset or the full dataset\n",
        "use_full_dataset = False # Set to False if you want to test with a smaller subset\n",
        "\n",
        "if use_full_dataset:\n",
        "    sample_number = len(train_data_pos)  # Use the full length of the dataset\n",
        "else:\n",
        "    sample_number = 2000 # Use a subset for faster testing\n",
        "\n",
        "# Use only the first `sample_number` reviews from each dataset\n",
        "train_data_pos = train_data_pos[:sample_number]\n",
        "train_data_neg = train_data_neg[:sample_number]\n",
        "test_data_pos = test_data_pos[:sample_number]\n",
        "test_data_neg = test_data_neg[:sample_number]\n",
        "\n",
        "# Print the number of samples being used for quick verification\n",
        "print(f\"Using {sample_number} samples for each category:\")\n",
        "print(f\"Train positive reviews: {len(train_data_pos)}\")\n",
        "print(f\"Train negative reviews: {len(train_data_neg)}\")\n",
        "print(f\"Test positive reviews: {len(test_data_pos)}\")\n",
        "print(f\"Test negative reviews: {len(test_data_neg)}\")"
      ]
    },
    {
      "cell_type": "markdown",
      "metadata": {
        "id": "YDSNchHyBSiP"
      },
      "source": [
        "Create the data structures that we'll use for training and testing"
      ]
    },
    {
      "cell_type": "code",
      "execution_count": null,
      "metadata": {
        "colab": {
          "base_uri": "https://localhost:8080/"
        },
        "id": "-iRunxcO214k",
        "outputId": "46561ec0-7515-40b1-de7d-5edb56d038f8"
      },
      "outputs": [
        {
          "output_type": "stream",
          "name": "stdout",
          "text": [
            "Length of the positive training examples is 2000\n",
            "Length of the negative training examples is 2000\n",
            "Length of the positive testing examples is 2000\n",
            "Length of the negative testing examples is 2000\n"
          ]
        }
      ],
      "source": [
        "### BEGIN YOUR CODE HERE\n",
        "# Assign the length of the train_data_pos to variable length_train_pos\n",
        "length_train_pos = len(train_data_pos)\n",
        "\n",
        "# Assign the length of the train_data_neg to variable length_train_neg\n",
        "length_train_neg = len(train_data_neg)\n",
        "\n",
        "# Assign the length of the test_data_pos to variable length_test_pos\n",
        "length_test_pos = len(test_data_pos)\n",
        "\n",
        "# Assign the length of the test_data_neg to variable length_test_neg\n",
        "length_test_neg = len(test_data_neg)\n",
        "### END YOUR CODE HERE\n",
        "\n",
        "# Print the lengths for verification\n",
        "print(\"Length of the positive training examples is\", length_train_pos)\n",
        "print(\"Length of the negative training examples is\", length_train_neg)\n",
        "print(\"Length of the positive testing examples is\", length_test_pos)\n",
        "print(\"Length of the negative testing examples is\", length_test_neg)"
      ]
    },
    {
      "cell_type": "code",
      "execution_count": null,
      "metadata": {
        "colab": {
          "base_uri": "https://localhost:8080/"
        },
        "id": "SP0iN7Y63DK8",
        "outputId": "2b65560a-4d82-4e7b-d224-72a757d502ed"
      },
      "outputs": [
        {
          "output_type": "stream",
          "name": "stdout",
          "text": [
            "Training DataFrame shape: (4000, 2)\n",
            "Test DataFrame shape: (4000, 2)\n",
            "\n",
            "Training DataFrame sample:\n",
            "                                              review  label\n",
            "0  Bizarre horror movie filled with famous faces ...      1\n",
            "1  Well made and stylish while still ultimately m...      1\n",
            "2  Gojoe is part of a new wave of Japanese cinema...      1\n",
            "3  I watched this in July and even with the Chris...      1\n",
            "4  More a snapshot of the most popular pinup of a...      1\n",
            "\n",
            "Test DataFrame sample:\n",
            "                                              review  label\n",
            "0  I rented this movie for two reasons. The first...      1\n",
            "1  Watching this movie, I can't help drawing the ...      1\n",
            "2  A good entertainment but nothing more : in thi...      1\n",
            "3  There was nothing else on tv yesterday afterno...      1\n",
            "4  You will be able to tell within the first 30 s...      1\n"
          ]
        }
      ],
      "source": [
        "import pandas as pd\n",
        "\n",
        "# Create the training DataFrame with examples and labels\n",
        "# Concatenate positive and negative training examples, then pair each example with a label: 1 for positive, 0 for negative\n",
        "data_train = pd.DataFrame(\n",
        "    zip(train_data_pos + train_data_neg, [1] * length_train_pos + [0] * length_train_neg),\n",
        "    columns=['review', 'label']\n",
        ")\n",
        "\n",
        "# Create the test DataFrame with examples and labels\n",
        "# Concatenate positive and negative test examples, then pair each example with a label: 1 for positive, 0 for negative\n",
        "data_test = pd.DataFrame(\n",
        "    zip(test_data_pos + test_data_neg, [1] * length_test_pos + [0] * length_test_neg),\n",
        "    columns=['review', 'label']\n",
        ")\n",
        "\n",
        "# Combine all reviews into a single list (training + test, positive + negative)\n",
        "all_reviews = train_data_pos + train_data_neg + test_data_pos + test_data_neg\n",
        "\n",
        "# Print the shapes of the dataframes to confirm sizes\n",
        "print(f\"Training DataFrame shape: {data_train.shape}\")\n",
        "print(f\"Test DataFrame shape: {data_test.shape}\")\n",
        "\n",
        "# Display the first few rows of the training and test DataFrames for verification\n",
        "print(\"\\nTraining DataFrame sample:\")\n",
        "print(data_train.head())\n",
        "\n",
        "print(\"\\nTest DataFrame sample:\")\n",
        "print(data_test.head())\n"
      ]
    },
    {
      "cell_type": "code",
      "execution_count": null,
      "metadata": {
        "colab": {
          "base_uri": "https://localhost:8080/"
        },
        "id": "-AgnWZ6xmPKC",
        "outputId": "06d50e5d-cab2-4134-c586-857c5603295b"
      },
      "outputs": [
        {
          "output_type": "stream",
          "name": "stdout",
          "text": [
            "The length of the train reviews is 4000\n",
            "The length of the test reviews is 4000\n",
            "The length of all reviews is 8000\n"
          ]
        }
      ],
      "source": [
        "print(\"The length of the train reviews is\",len(data_train))\n",
        "print(\"The length of the test reviews is\",len(data_test))\n",
        "print(\"The length of all reviews is\",len(all_reviews))"
      ]
    },
    {
      "cell_type": "markdown",
      "metadata": {
        "id": "qGx0YdcMDKmk"
      },
      "source": [
        "## The following are functions for preprocessing text"
      ]
    },
    {
      "cell_type": "code",
      "execution_count": null,
      "metadata": {
        "colab": {
          "base_uri": "https://localhost:8080/"
        },
        "id": "_kUEiSjwDWtq",
        "outputId": "98e24db7-cb1d-468e-8fa7-bd81cd984389"
      },
      "outputs": [
        {
          "output_type": "stream",
          "name": "stderr",
          "text": [
            "[nltk_data] Downloading package stopwords to /root/nltk_data...\n",
            "[nltk_data]   Package stopwords is already up-to-date!\n",
            "[nltk_data] Downloading package punkt to /root/nltk_data...\n",
            "[nltk_data]   Package punkt is already up-to-date!\n",
            "[nltk_data] Downloading package wordnet to /root/nltk_data...\n",
            "[nltk_data]   Package wordnet is already up-to-date!\n",
            "[nltk_data] Downloading package omw-1.4 to /root/nltk_data...\n",
            "[nltk_data]   Package omw-1.4 is already up-to-date!\n"
          ]
        }
      ],
      "source": [
        "# Download stopwords and wordnet vectors\n",
        "nltk.download('stopwords')\n",
        "nltk.download('punkt')\n",
        "nltk.download('wordnet')\n",
        "nltk.download('omw-1.4')\n",
        "\n",
        "counter = 0\n",
        "REPLACE_WITH_SPACE = re.compile(r'[^A-Za-z\\s]')\n",
        "stop_words = set(stopwords.words(\"english\"))\n",
        "# Declare the lemmatizer\n",
        "lemmatizer = WordNetLemmatizer()"
      ]
    },
    {
      "cell_type": "code",
      "execution_count": null,
      "metadata": {
        "id": "upAJm0cL4m55"
      },
      "outputs": [],
      "source": [
        "from bs4 import BeautifulSoup\n",
        "import re\n",
        "from nltk.corpus import stopwords\n",
        "from nltk.tokenize import word_tokenize\n",
        "from nltk.stem import WordNetLemmatizer\n",
        "\n",
        "lemmatizer = WordNetLemmatizer()\n",
        "stop_words = set(stopwords.words(\"english\"))\n",
        "REPLACE_WITH_SPACE = re.compile(r\"[^a-zA-Z]\")\n",
        "\n",
        "# Global counter for tracking progress (used in the preprocess function)\n",
        "counter = 0\n",
        "\n",
        "# Function 1: Clean Review\n",
        "def clean_review(raw_review: str) -> str:\n",
        "\n",
        "    # 1. Remove HTML tags using BeautifulSoup\n",
        "    review_text = BeautifulSoup(str(raw_review), \"lxml\").get_text()\n",
        "\n",
        "    # 2. Remove non-letter characters (anything that's not A-Z or a-z)\n",
        "    letters_only = REPLACE_WITH_SPACE.sub(\" \", review_text)\n",
        "\n",
        "    # 3. Convert to lowercase\n",
        "    lowercase_letters = letters_only.lower()\n",
        "\n",
        "    return lowercase_letters\n",
        "\n",
        "# Function 2: Lemmatize and Remove Stopwords\n",
        "def lemmatize(tokens: list) -> list:\n",
        "\n",
        "    # 1. Lemmatize words as nouns\n",
        "    tokens = list(map(lemmatizer.lemmatize, tokens))\n",
        "\n",
        "    # 2. Further lemmatize words as verbs\n",
        "    lemmatized_tokens = list(map(lambda x: lemmatizer.lemmatize(x, \"v\"), tokens))\n",
        "\n",
        "    # 3. Remove stopwords\n",
        "    meaningful_words = list(filter(lambda x: x not in stop_words, lemmatized_tokens))\n",
        "\n",
        "    return meaningful_words\n",
        "\n",
        "\n",
        "# Function 3: Full Preprocessing Pipeline\n",
        "def preprocess(review: str, total: int, show_progress: bool = True) -> list:\n",
        "\n",
        "    global counter\n",
        "\n",
        "    # Display progress\n",
        "    if show_progress:\n",
        "        counter += 1\n",
        "        print('Processing... %6i/%6i' % (counter, total), end='\\r')\n",
        "\n",
        "    # 1. Clean the text\n",
        "    cleaned_review = clean_review(review)\n",
        "\n",
        "    # 2. Tokenize the cleaned review into individual words\n",
        "    tokens = word_tokenize(cleaned_review)\n",
        "\n",
        "    # 3. Lemmatize tokens and remove stopwords\n",
        "    lemmas = lemmatize(tokens)\n",
        "\n",
        "    # 4. Return the processed tokens (list of meaningful words)\n",
        "    return lemmas"
      ]
    },
    {
      "cell_type": "markdown",
      "metadata": {
        "id": "ZheAzAmxEIRi"
      },
      "source": [
        "## Preprocess the text of the reviews by removing the non-word characters, converting everything to lower case, and lemmatizing words\n"
      ]
    },
    {
      "cell_type": "code",
      "execution_count": null,
      "metadata": {
        "colab": {
          "base_uri": "https://localhost:8080/"
        },
        "id": "6qCpWwk299fJ",
        "outputId": "c8e403fa-d9cf-49b6-a761-b7f9812ac522"
      },
      "outputs": [
        {
          "output_type": "stream",
          "name": "stderr",
          "text": [
            "[nltk_data] Downloading collection 'all'\n",
            "[nltk_data]    | \n",
            "[nltk_data]    | Downloading package abc to /root/nltk_data...\n",
            "[nltk_data]    |   Package abc is already up-to-date!\n",
            "[nltk_data]    | Downloading package alpino to /root/nltk_data...\n",
            "[nltk_data]    |   Package alpino is already up-to-date!\n",
            "[nltk_data]    | Downloading package averaged_perceptron_tagger to\n",
            "[nltk_data]    |     /root/nltk_data...\n",
            "[nltk_data]    |   Package averaged_perceptron_tagger is already up-\n",
            "[nltk_data]    |       to-date!\n",
            "[nltk_data]    | Downloading package averaged_perceptron_tagger_eng to\n",
            "[nltk_data]    |     /root/nltk_data...\n",
            "[nltk_data]    |   Package averaged_perceptron_tagger_eng is already\n",
            "[nltk_data]    |       up-to-date!\n",
            "[nltk_data]    | Downloading package averaged_perceptron_tagger_ru to\n",
            "[nltk_data]    |     /root/nltk_data...\n",
            "[nltk_data]    |   Package averaged_perceptron_tagger_ru is already\n",
            "[nltk_data]    |       up-to-date!\n",
            "[nltk_data]    | Downloading package averaged_perceptron_tagger_rus to\n",
            "[nltk_data]    |     /root/nltk_data...\n",
            "[nltk_data]    |   Package averaged_perceptron_tagger_rus is already\n",
            "[nltk_data]    |       up-to-date!\n",
            "[nltk_data]    | Downloading package basque_grammars to\n",
            "[nltk_data]    |     /root/nltk_data...\n",
            "[nltk_data]    |   Package basque_grammars is already up-to-date!\n",
            "[nltk_data]    | Downloading package bcp47 to /root/nltk_data...\n",
            "[nltk_data]    |   Package bcp47 is already up-to-date!\n",
            "[nltk_data]    | Downloading package biocreative_ppi to\n",
            "[nltk_data]    |     /root/nltk_data...\n",
            "[nltk_data]    |   Package biocreative_ppi is already up-to-date!\n",
            "[nltk_data]    | Downloading package bllip_wsj_no_aux to\n",
            "[nltk_data]    |     /root/nltk_data...\n",
            "[nltk_data]    |   Package bllip_wsj_no_aux is already up-to-date!\n",
            "[nltk_data]    | Downloading package book_grammars to\n",
            "[nltk_data]    |     /root/nltk_data...\n",
            "[nltk_data]    |   Package book_grammars is already up-to-date!\n",
            "[nltk_data]    | Downloading package brown to /root/nltk_data...\n",
            "[nltk_data]    |   Package brown is already up-to-date!\n",
            "[nltk_data]    | Downloading package brown_tei to /root/nltk_data...\n",
            "[nltk_data]    |   Package brown_tei is already up-to-date!\n",
            "[nltk_data]    | Downloading package cess_cat to /root/nltk_data...\n",
            "[nltk_data]    |   Package cess_cat is already up-to-date!\n",
            "[nltk_data]    | Downloading package cess_esp to /root/nltk_data...\n",
            "[nltk_data]    |   Package cess_esp is already up-to-date!\n",
            "[nltk_data]    | Downloading package chat80 to /root/nltk_data...\n",
            "[nltk_data]    |   Package chat80 is already up-to-date!\n",
            "[nltk_data]    | Downloading package city_database to\n",
            "[nltk_data]    |     /root/nltk_data...\n",
            "[nltk_data]    |   Package city_database is already up-to-date!\n",
            "[nltk_data]    | Downloading package cmudict to /root/nltk_data...\n",
            "[nltk_data]    |   Package cmudict is already up-to-date!\n",
            "[nltk_data]    | Downloading package comparative_sentences to\n",
            "[nltk_data]    |     /root/nltk_data...\n",
            "[nltk_data]    |   Package comparative_sentences is already up-to-\n",
            "[nltk_data]    |       date!\n",
            "[nltk_data]    | Downloading package comtrans to /root/nltk_data...\n",
            "[nltk_data]    |   Package comtrans is already up-to-date!\n",
            "[nltk_data]    | Downloading package conll2000 to /root/nltk_data...\n",
            "[nltk_data]    |   Package conll2000 is already up-to-date!\n",
            "[nltk_data]    | Downloading package conll2002 to /root/nltk_data...\n",
            "[nltk_data]    |   Package conll2002 is already up-to-date!\n",
            "[nltk_data]    | Downloading package conll2007 to /root/nltk_data...\n",
            "[nltk_data]    |   Package conll2007 is already up-to-date!\n",
            "[nltk_data]    | Downloading package crubadan to /root/nltk_data...\n",
            "[nltk_data]    |   Package crubadan is already up-to-date!\n",
            "[nltk_data]    | Downloading package dependency_treebank to\n",
            "[nltk_data]    |     /root/nltk_data...\n",
            "[nltk_data]    |   Package dependency_treebank is already up-to-date!\n",
            "[nltk_data]    | Downloading package dolch to /root/nltk_data...\n",
            "[nltk_data]    |   Package dolch is already up-to-date!\n",
            "[nltk_data]    | Downloading package europarl_raw to\n",
            "[nltk_data]    |     /root/nltk_data...\n",
            "[nltk_data]    |   Package europarl_raw is already up-to-date!\n",
            "[nltk_data]    | Downloading package extended_omw to\n",
            "[nltk_data]    |     /root/nltk_data...\n",
            "[nltk_data]    |   Package extended_omw is already up-to-date!\n",
            "[nltk_data]    | Downloading package floresta to /root/nltk_data...\n",
            "[nltk_data]    |   Package floresta is already up-to-date!\n",
            "[nltk_data]    | Downloading package framenet_v15 to\n",
            "[nltk_data]    |     /root/nltk_data...\n",
            "[nltk_data]    |   Package framenet_v15 is already up-to-date!\n",
            "[nltk_data]    | Downloading package framenet_v17 to\n",
            "[nltk_data]    |     /root/nltk_data...\n",
            "[nltk_data]    |   Package framenet_v17 is already up-to-date!\n",
            "[nltk_data]    | Downloading package gazetteers to /root/nltk_data...\n",
            "[nltk_data]    |   Package gazetteers is already up-to-date!\n",
            "[nltk_data]    | Downloading package genesis to /root/nltk_data...\n",
            "[nltk_data]    |   Package genesis is already up-to-date!\n",
            "[nltk_data]    | Downloading package gutenberg to /root/nltk_data...\n",
            "[nltk_data]    |   Package gutenberg is already up-to-date!\n",
            "[nltk_data]    | Downloading package ieer to /root/nltk_data...\n",
            "[nltk_data]    |   Package ieer is already up-to-date!\n",
            "[nltk_data]    | Downloading package inaugural to /root/nltk_data...\n",
            "[nltk_data]    |   Package inaugural is already up-to-date!\n",
            "[nltk_data]    | Downloading package indian to /root/nltk_data...\n",
            "[nltk_data]    |   Package indian is already up-to-date!\n",
            "[nltk_data]    | Downloading package jeita to /root/nltk_data...\n",
            "[nltk_data]    |   Package jeita is already up-to-date!\n",
            "[nltk_data]    | Downloading package kimmo to /root/nltk_data...\n",
            "[nltk_data]    |   Package kimmo is already up-to-date!\n",
            "[nltk_data]    | Downloading package knbc to /root/nltk_data...\n",
            "[nltk_data]    |   Package knbc is already up-to-date!\n",
            "[nltk_data]    | Downloading package large_grammars to\n",
            "[nltk_data]    |     /root/nltk_data...\n",
            "[nltk_data]    |   Package large_grammars is already up-to-date!\n",
            "[nltk_data]    | Downloading package lin_thesaurus to\n",
            "[nltk_data]    |     /root/nltk_data...\n",
            "[nltk_data]    |   Package lin_thesaurus is already up-to-date!\n",
            "[nltk_data]    | Downloading package mac_morpho to /root/nltk_data...\n",
            "[nltk_data]    |   Package mac_morpho is already up-to-date!\n",
            "[nltk_data]    | Downloading package machado to /root/nltk_data...\n",
            "[nltk_data]    |   Package machado is already up-to-date!\n",
            "[nltk_data]    | Downloading package masc_tagged to /root/nltk_data...\n",
            "[nltk_data]    |   Package masc_tagged is already up-to-date!\n",
            "[nltk_data]    | Downloading package maxent_ne_chunker to\n",
            "[nltk_data]    |     /root/nltk_data...\n",
            "[nltk_data]    |   Package maxent_ne_chunker is already up-to-date!\n",
            "[nltk_data]    | Downloading package maxent_ne_chunker_tab to\n",
            "[nltk_data]    |     /root/nltk_data...\n",
            "[nltk_data]    |   Package maxent_ne_chunker_tab is already up-to-\n",
            "[nltk_data]    |       date!\n",
            "[nltk_data]    | Downloading package maxent_treebank_pos_tagger to\n",
            "[nltk_data]    |     /root/nltk_data...\n",
            "[nltk_data]    |   Package maxent_treebank_pos_tagger is already up-\n",
            "[nltk_data]    |       to-date!\n",
            "[nltk_data]    | Downloading package maxent_treebank_pos_tagger_tab to\n",
            "[nltk_data]    |     /root/nltk_data...\n",
            "[nltk_data]    |   Package maxent_treebank_pos_tagger_tab is already\n",
            "[nltk_data]    |       up-to-date!\n",
            "[nltk_data]    | Downloading package moses_sample to\n",
            "[nltk_data]    |     /root/nltk_data...\n",
            "[nltk_data]    |   Package moses_sample is already up-to-date!\n",
            "[nltk_data]    | Downloading package movie_reviews to\n",
            "[nltk_data]    |     /root/nltk_data...\n",
            "[nltk_data]    |   Package movie_reviews is already up-to-date!\n",
            "[nltk_data]    | Downloading package mte_teip5 to /root/nltk_data...\n",
            "[nltk_data]    |   Package mte_teip5 is already up-to-date!\n",
            "[nltk_data]    | Downloading package mwa_ppdb to /root/nltk_data...\n",
            "[nltk_data]    |   Package mwa_ppdb is already up-to-date!\n",
            "[nltk_data]    | Downloading package names to /root/nltk_data...\n",
            "[nltk_data]    |   Package names is already up-to-date!\n",
            "[nltk_data]    | Downloading package nombank.1.0 to /root/nltk_data...\n",
            "[nltk_data]    |   Package nombank.1.0 is already up-to-date!\n",
            "[nltk_data]    | Downloading package nonbreaking_prefixes to\n",
            "[nltk_data]    |     /root/nltk_data...\n",
            "[nltk_data]    |   Package nonbreaking_prefixes is already up-to-date!\n",
            "[nltk_data]    | Downloading package nps_chat to /root/nltk_data...\n",
            "[nltk_data]    |   Package nps_chat is already up-to-date!\n",
            "[nltk_data]    | Downloading package omw to /root/nltk_data...\n",
            "[nltk_data]    |   Package omw is already up-to-date!\n",
            "[nltk_data]    | Downloading package omw-1.4 to /root/nltk_data...\n",
            "[nltk_data]    |   Package omw-1.4 is already up-to-date!\n",
            "[nltk_data]    | Downloading package opinion_lexicon to\n",
            "[nltk_data]    |     /root/nltk_data...\n",
            "[nltk_data]    |   Package opinion_lexicon is already up-to-date!\n",
            "[nltk_data]    | Downloading package panlex_swadesh to\n",
            "[nltk_data]    |     /root/nltk_data...\n",
            "[nltk_data]    |   Package panlex_swadesh is already up-to-date!\n",
            "[nltk_data]    | Downloading package paradigms to /root/nltk_data...\n",
            "[nltk_data]    |   Package paradigms is already up-to-date!\n",
            "[nltk_data]    | Downloading package pe08 to /root/nltk_data...\n",
            "[nltk_data]    |   Package pe08 is already up-to-date!\n",
            "[nltk_data]    | Downloading package perluniprops to\n",
            "[nltk_data]    |     /root/nltk_data...\n",
            "[nltk_data]    |   Package perluniprops is already up-to-date!\n",
            "[nltk_data]    | Downloading package pil to /root/nltk_data...\n",
            "[nltk_data]    |   Package pil is already up-to-date!\n",
            "[nltk_data]    | Downloading package pl196x to /root/nltk_data...\n",
            "[nltk_data]    |   Package pl196x is already up-to-date!\n",
            "[nltk_data]    | Downloading package porter_test to /root/nltk_data...\n",
            "[nltk_data]    |   Package porter_test is already up-to-date!\n",
            "[nltk_data]    | Downloading package ppattach to /root/nltk_data...\n",
            "[nltk_data]    |   Package ppattach is already up-to-date!\n",
            "[nltk_data]    | Downloading package problem_reports to\n",
            "[nltk_data]    |     /root/nltk_data...\n",
            "[nltk_data]    |   Package problem_reports is already up-to-date!\n",
            "[nltk_data]    | Downloading package product_reviews_1 to\n",
            "[nltk_data]    |     /root/nltk_data...\n",
            "[nltk_data]    |   Package product_reviews_1 is already up-to-date!\n",
            "[nltk_data]    | Downloading package product_reviews_2 to\n",
            "[nltk_data]    |     /root/nltk_data...\n",
            "[nltk_data]    |   Package product_reviews_2 is already up-to-date!\n",
            "[nltk_data]    | Downloading package propbank to /root/nltk_data...\n",
            "[nltk_data]    |   Package propbank is already up-to-date!\n",
            "[nltk_data]    | Downloading package pros_cons to /root/nltk_data...\n",
            "[nltk_data]    |   Package pros_cons is already up-to-date!\n",
            "[nltk_data]    | Downloading package ptb to /root/nltk_data...\n",
            "[nltk_data]    |   Package ptb is already up-to-date!\n",
            "[nltk_data]    | Downloading package punkt to /root/nltk_data...\n",
            "[nltk_data]    |   Package punkt is already up-to-date!\n",
            "[nltk_data]    | Downloading package punkt_tab to /root/nltk_data...\n",
            "[nltk_data]    |   Package punkt_tab is already up-to-date!\n",
            "[nltk_data]    | Downloading package qc to /root/nltk_data...\n",
            "[nltk_data]    |   Package qc is already up-to-date!\n",
            "[nltk_data]    | Downloading package reuters to /root/nltk_data...\n",
            "[nltk_data]    |   Package reuters is already up-to-date!\n",
            "[nltk_data]    | Downloading package rslp to /root/nltk_data...\n",
            "[nltk_data]    |   Package rslp is already up-to-date!\n",
            "[nltk_data]    | Downloading package rte to /root/nltk_data...\n",
            "[nltk_data]    |   Package rte is already up-to-date!\n",
            "[nltk_data]    | Downloading package sample_grammars to\n",
            "[nltk_data]    |     /root/nltk_data...\n",
            "[nltk_data]    |   Package sample_grammars is already up-to-date!\n",
            "[nltk_data]    | Downloading package semcor to /root/nltk_data...\n",
            "[nltk_data]    |   Package semcor is already up-to-date!\n",
            "[nltk_data]    | Downloading package senseval to /root/nltk_data...\n",
            "[nltk_data]    |   Package senseval is already up-to-date!\n",
            "[nltk_data]    | Downloading package sentence_polarity to\n",
            "[nltk_data]    |     /root/nltk_data...\n",
            "[nltk_data]    |   Package sentence_polarity is already up-to-date!\n",
            "[nltk_data]    | Downloading package sentiwordnet to\n",
            "[nltk_data]    |     /root/nltk_data...\n",
            "[nltk_data]    |   Package sentiwordnet is already up-to-date!\n",
            "[nltk_data]    | Downloading package shakespeare to /root/nltk_data...\n",
            "[nltk_data]    |   Package shakespeare is already up-to-date!\n",
            "[nltk_data]    | Downloading package sinica_treebank to\n",
            "[nltk_data]    |     /root/nltk_data...\n",
            "[nltk_data]    |   Package sinica_treebank is already up-to-date!\n",
            "[nltk_data]    | Downloading package smultron to /root/nltk_data...\n",
            "[nltk_data]    |   Package smultron is already up-to-date!\n",
            "[nltk_data]    | Downloading package snowball_data to\n",
            "[nltk_data]    |     /root/nltk_data...\n",
            "[nltk_data]    |   Package snowball_data is already up-to-date!\n",
            "[nltk_data]    | Downloading package spanish_grammars to\n",
            "[nltk_data]    |     /root/nltk_data...\n",
            "[nltk_data]    |   Package spanish_grammars is already up-to-date!\n",
            "[nltk_data]    | Downloading package state_union to /root/nltk_data...\n",
            "[nltk_data]    |   Package state_union is already up-to-date!\n",
            "[nltk_data]    | Downloading package stopwords to /root/nltk_data...\n",
            "[nltk_data]    |   Package stopwords is already up-to-date!\n",
            "[nltk_data]    | Downloading package subjectivity to\n",
            "[nltk_data]    |     /root/nltk_data...\n",
            "[nltk_data]    |   Package subjectivity is already up-to-date!\n",
            "[nltk_data]    | Downloading package swadesh to /root/nltk_data...\n",
            "[nltk_data]    |   Package swadesh is already up-to-date!\n",
            "[nltk_data]    | Downloading package switchboard to /root/nltk_data...\n",
            "[nltk_data]    |   Package switchboard is already up-to-date!\n",
            "[nltk_data]    | Downloading package tagsets to /root/nltk_data...\n",
            "[nltk_data]    |   Package tagsets is already up-to-date!\n",
            "[nltk_data]    | Downloading package tagsets_json to\n",
            "[nltk_data]    |     /root/nltk_data...\n",
            "[nltk_data]    |   Package tagsets_json is already up-to-date!\n",
            "[nltk_data]    | Downloading package timit to /root/nltk_data...\n",
            "[nltk_data]    |   Package timit is already up-to-date!\n",
            "[nltk_data]    | Downloading package toolbox to /root/nltk_data...\n",
            "[nltk_data]    |   Package toolbox is already up-to-date!\n",
            "[nltk_data]    | Downloading package treebank to /root/nltk_data...\n",
            "[nltk_data]    |   Package treebank is already up-to-date!\n",
            "[nltk_data]    | Downloading package twitter_samples to\n",
            "[nltk_data]    |     /root/nltk_data...\n",
            "[nltk_data]    |   Package twitter_samples is already up-to-date!\n",
            "[nltk_data]    | Downloading package udhr to /root/nltk_data...\n",
            "[nltk_data]    |   Package udhr is already up-to-date!\n",
            "[nltk_data]    | Downloading package udhr2 to /root/nltk_data...\n",
            "[nltk_data]    |   Package udhr2 is already up-to-date!\n",
            "[nltk_data]    | Downloading package unicode_samples to\n",
            "[nltk_data]    |     /root/nltk_data...\n",
            "[nltk_data]    |   Package unicode_samples is already up-to-date!\n",
            "[nltk_data]    | Downloading package universal_tagset to\n",
            "[nltk_data]    |     /root/nltk_data...\n",
            "[nltk_data]    |   Package universal_tagset is already up-to-date!\n",
            "[nltk_data]    | Downloading package universal_treebanks_v20 to\n",
            "[nltk_data]    |     /root/nltk_data...\n",
            "[nltk_data]    |   Package universal_treebanks_v20 is already up-to-\n",
            "[nltk_data]    |       date!\n",
            "[nltk_data]    | Downloading package vader_lexicon to\n",
            "[nltk_data]    |     /root/nltk_data...\n",
            "[nltk_data]    |   Package vader_lexicon is already up-to-date!\n",
            "[nltk_data]    | Downloading package verbnet to /root/nltk_data...\n",
            "[nltk_data]    |   Package verbnet is already up-to-date!\n",
            "[nltk_data]    | Downloading package verbnet3 to /root/nltk_data...\n",
            "[nltk_data]    |   Package verbnet3 is already up-to-date!\n",
            "[nltk_data]    | Downloading package webtext to /root/nltk_data...\n",
            "[nltk_data]    |   Package webtext is already up-to-date!\n",
            "[nltk_data]    | Downloading package wmt15_eval to /root/nltk_data...\n",
            "[nltk_data]    |   Package wmt15_eval is already up-to-date!\n",
            "[nltk_data]    | Downloading package word2vec_sample to\n",
            "[nltk_data]    |     /root/nltk_data...\n",
            "[nltk_data]    |   Package word2vec_sample is already up-to-date!\n",
            "[nltk_data]    | Downloading package wordnet to /root/nltk_data...\n",
            "[nltk_data]    |   Package wordnet is already up-to-date!\n",
            "[nltk_data]    | Downloading package wordnet2021 to /root/nltk_data...\n",
            "[nltk_data]    |   Package wordnet2021 is already up-to-date!\n",
            "[nltk_data]    | Downloading package wordnet2022 to /root/nltk_data...\n"
          ]
        },
        {
          "output_type": "stream",
          "name": "stdout",
          "text": [
            "### Raw Review Text ###\n",
            "Bizarre horror movie filled with famous faces but stolen by Cristina Raines (later of TV's \"Flamingo Road\") as a pretty but somewhat unstable model with a gummy smile who is slated to pay for her attempted suicides by guarding the Gateway to Hell! The scenes with Raines modeling are very well captured, the mood music is perfect, Deborah Raffin is charming as Cristina's pal, but when Raines moves into a creepy Brooklyn Heights brownstone (inhabited by a blind priest on the top floor), things really start cooking. The neighbors, including a fantastically wicked Burgess Meredith and kinky couple Sylvia Miles & Beverly D'Angelo, are a diabolical lot, and Eli Wallach is great fun as a wily police detective. The movie is nearly a cross-pollination of \"Rosemary's Baby\" and \"The Exorcist\"--but what a combination! Based on the best-seller by Jeffrey Konvitz, \"The Sentinel\" is entertainingly spooky, full of shocks brought off well by director Michael Winner, who mounts a thoughtfully downbeat ending with skill. ***1/2 from ****\n",
            "\n",
            "### Review Label ###\n",
            "Label: 1 (1 for positive, 0 for negative)\n",
            "\n",
            "### Preprocessed Review Text ###\n",
            "Processing...      1/     1\r['bizarre', 'horror', 'movie', 'fill', 'famous', 'face', 'steal', 'cristina', 'rain', 'later', 'tv', 'flamingo', 'road', 'pretty', 'somewhat', 'unstable', 'model', 'gummy', 'smile', 'slat', 'pay', 'attempt', 'suicide', 'guard', 'gateway', 'hell', 'scene', 'rain', 'model', 'well', 'capture', 'mood', 'music', 'perfect', 'deborah', 'raffin', 'charm', 'cristina', 'pal', 'rain', 'move', 'creepy', 'brooklyn', 'height', 'brownstone', 'inhabit', 'blind', 'priest', 'top', 'floor', 'thing', 'really', 'start', 'cook', 'neighbor', 'include', 'fantastically', 'wicked', 'burgess', 'meredith', 'kinky', 'couple', 'sylvia', 'mile', 'beverly', 'angelo', 'diabolical', 'lot', 'eli', 'wallach', 'great', 'fun', 'wily', 'police', 'detective', 'movie', 'nearly', 'cross', 'pollination', 'rosemary', 'baby', 'exorcist', 'combination', 'base', 'best', 'seller', 'jeffrey', 'konvitz', 'sentinel', 'entertainingly', 'spooky', 'full', 'shock', 'bring', 'well', 'director', 'michael', 'winner', 'mount', 'thoughtfully', 'downbeat', 'end', 'skill']\n"
          ]
        },
        {
          "output_type": "stream",
          "name": "stderr",
          "text": [
            "[nltk_data]    |   Package wordnet2022 is already up-to-date!\n",
            "[nltk_data]    | Downloading package wordnet31 to /root/nltk_data...\n",
            "[nltk_data]    |   Package wordnet31 is already up-to-date!\n",
            "[nltk_data]    | Downloading package wordnet_ic to /root/nltk_data...\n",
            "[nltk_data]    |   Package wordnet_ic is already up-to-date!\n",
            "[nltk_data]    | Downloading package words to /root/nltk_data...\n",
            "[nltk_data]    |   Package words is already up-to-date!\n",
            "[nltk_data]    | Downloading package ycoe to /root/nltk_data...\n",
            "[nltk_data]    |   Package ycoe is already up-to-date!\n",
            "[nltk_data]    | \n",
            "[nltk_data]  Done downloading collection all\n"
          ]
        }
      ],
      "source": [
        "import nltk\n",
        "\n",
        "# Download all NLTK data\n",
        "nltk.download('all')\n",
        "\n",
        "# Step 1: Display the first review text from the training data\n",
        "print(\"### Raw Review Text ###\")\n",
        "first_review_text = data_train['review'][0]\n",
        "print(first_review_text)\n",
        "\n",
        "# Step 2: Display the label associated with the first review\n",
        "print(\"\\n### Review Label ###\")\n",
        "first_review_label = data_train['label'][0]\n",
        "print(f\"Label: {first_review_label} (1 for positive, 0 for negative)\")\n",
        "\n",
        "# Step 3: Display the preprocessed text of the first review\n",
        "print(\"\\n### Preprocessed Review Text ###\")\n",
        "preprocessed_review = preprocess(first_review_text, total=1)\n",
        "print(preprocessed_review)\n"
      ]
    },
    {
      "cell_type": "markdown",
      "metadata": {
        "id": "H8v52gEBEtUi"
      },
      "source": [
        "Let's preproces the entire set of reviews"
      ]
    },
    {
      "cell_type": "code",
      "execution_count": null,
      "metadata": {
        "colab": {
          "base_uri": "https://localhost:8080/"
        },
        "id": "EhjaSx_R_QUL",
        "outputId": "4ccdb97f-6d6e-4f81-d3b2-453179412192"
      },
      "outputs": [
        {
          "output_type": "stream",
          "name": "stdout",
          "text": [
            "### Preprocessing all reviews ###\n"
          ]
        },
        {
          "output_type": "stream",
          "name": "stderr",
          "text": [
            "<ipython-input-51-cbe43f4c6ab2>:18: MarkupResemblesLocatorWarning: The input looks more like a filename than markup. You may want to open this file and pass the filehandle into Beautiful Soup.\n",
            "  review_text = BeautifulSoup(str(raw_review), \"lxml\").get_text()\n"
          ]
        },
        {
          "output_type": "stream",
          "name": "stdout",
          "text": [
            "Processing...   8000/  8000\n",
            "### Sample Preprocessed Reviews ###\n",
            "Review 1: ['bizarre', 'horror', 'movie', 'fill', 'famous', 'face', 'steal', 'cristina', 'rain', 'later', 'tv', 'flamingo', 'road', 'pretty', 'somewhat', 'unstable', 'model', 'gummy', 'smile', 'slat', 'pay', 'attempt', 'suicide', 'guard', 'gateway', 'hell', 'scene', 'rain', 'model', 'well', 'capture', 'mood', 'music', 'perfect', 'deborah', 'raffin', 'charm', 'cristina', 'pal', 'rain', 'move', 'creepy', 'brooklyn', 'height', 'brownstone', 'inhabit', 'blind', 'priest', 'top', 'floor', 'thing', 'really', 'start', 'cook', 'neighbor', 'include', 'fantastically', 'wicked', 'burgess', 'meredith', 'kinky', 'couple', 'sylvia', 'mile', 'beverly', 'angelo', 'diabolical', 'lot', 'eli', 'wallach', 'great', 'fun', 'wily', 'police', 'detective', 'movie', 'nearly', 'cross', 'pollination', 'rosemary', 'baby', 'exorcist', 'combination', 'base', 'best', 'seller', 'jeffrey', 'konvitz', 'sentinel', 'entertainingly', 'spooky', 'full', 'shock', 'bring', 'well', 'director', 'michael', 'winner', 'mount', 'thoughtfully', 'downbeat', 'end', 'skill']\n",
            "Review 2: ['well', 'make', 'stylish', 'still', 'ultimately', 'make', 'sense', 'thriller', 'would', 'work', 'better', 'non', 'giallo', 'fan', 'get', 'interest', 'genre', 'later', 'argento', 'entry', 'go', 'overboard', 'direction', 'fan', 'craze', 'italian', 'thriller', 'appreciate', 'george', 'hilton', 'turn', 'character', 'take', 'put', 'camera', 'work', 'fresh', 'dash', 'graphic', 'violence', 'odd', 'appropriate', 'choice', 'good', 'overblown', 'music', 'score', 'well', 'less', 'know', 'story', 'better', 'make', 'work', 'thing', 'lack', 'keep', 'great', 'sergio', 'martino', 'direct', 'giallo', 'story', 'extra', 'sexual', 'psychological', 'element', 'put', 'top', 'routine', 'mystery', 'character', 'well', 'define', 'live', 'die', 'accord', 'plot', 'accord', 'virtue', 'flaw', 'recent', 'dvd', 'release', 'beautiful', 'look', 'definitely', 'way', 'see', 'film', 'unless', 'ever', 'get', 'art', 'house', 'screen', 'seem', 'unlikely']\n",
            "Review 3: ['gojoe', 'part', 'new', 'wave', 'japanese', 'cinema', 'take', 'creative', 'director', 'editor', 'photographer', 'work', 'historic', 'theme', 'japanese', 'call', 'period', 'piece', 'gojoe', 'extremely', 'creative', 'term', 'color', 'photography', 'edit', 'brilliant', 'even', 'new', 'wave', 'japanese', 'samurai', 'film', 'allow', 'peek', 'traditional', 'belief', 'shamanism', 'demon', 'occult', 'power', 'certainly', 'part', 'ancient', 'culture', 'really', 'explore', 'kurosawa', 'samurai', 'epic', 'zaitochi', 'series', 'another', 'fine', 'example', 'genre', 'onmyoji', 'would', 'place', 'director', 'sogo', 'ichii', 'one', 'interest', 'creative', 'new', 'wave', 'japanese', 'director', 'recent', 'japanese', 'period', 'piece', 'would', 'highly', 'recommend', 'include', 'yomada', 'twilight', 'samurai', 'shintaro', 'katsu', 'zatoichi', 'blind', 'swordsman']\n"
          ]
        }
      ],
      "source": [
        "# Preprocessing each review in the all_reviews list.\n",
        "print(\"### Preprocessing all reviews ###\")\n",
        "counter = 0\n",
        "all_reviews_preprocessed = [preprocess(x, total=len(all_reviews)) for x in all_reviews]\n",
        "\n",
        "# Display sample of the preprocessed reviews\n",
        "print(\"\\n### Sample Preprocessed Reviews ###\")\n",
        "for i in range(3):\n",
        "    print(f\"Review {i + 1}: {all_reviews_preprocessed[i]}\")\n"
      ]
    },
    {
      "cell_type": "code",
      "execution_count": null,
      "metadata": {
        "colab": {
          "base_uri": "https://localhost:8080/"
        },
        "id": "9o9C3aCI8TiF",
        "outputId": "382e903f-be83-4f68-d06f-87e238616b9e"
      },
      "outputs": [
        {
          "output_type": "stream",
          "name": "stdout",
          "text": [
            "Number of training examples (preprocessed): 4000\n",
            "Number of testing examples (preprocessed): 4000\n",
            "\n",
            "### Sample Preprocessed Training Review ###\n",
            "[['bizarre', 'horror', 'movie', 'fill', 'famous', 'face', 'steal', 'cristina', 'rain', 'later', 'tv', 'flamingo', 'road', 'pretty', 'somewhat', 'unstable', 'model', 'gummy', 'smile', 'slat', 'pay', 'attempt', 'suicide', 'guard', 'gateway', 'hell', 'scene', 'rain', 'model', 'well', 'capture', 'mood', 'music', 'perfect', 'deborah', 'raffin', 'charm', 'cristina', 'pal', 'rain', 'move', 'creepy', 'brooklyn', 'height', 'brownstone', 'inhabit', 'blind', 'priest', 'top', 'floor', 'thing', 'really', 'start', 'cook', 'neighbor', 'include', 'fantastically', 'wicked', 'burgess', 'meredith', 'kinky', 'couple', 'sylvia', 'mile', 'beverly', 'angelo', 'diabolical', 'lot', 'eli', 'wallach', 'great', 'fun', 'wily', 'police', 'detective', 'movie', 'nearly', 'cross', 'pollination', 'rosemary', 'baby', 'exorcist', 'combination', 'base', 'best', 'seller', 'jeffrey', 'konvitz', 'sentinel', 'entertainingly', 'spooky', 'full', 'shock', 'bring', 'well', 'director', 'michael', 'winner', 'mount', 'thoughtfully', 'downbeat', 'end', 'skill'], ['well', 'make', 'stylish', 'still', 'ultimately', 'make', 'sense', 'thriller', 'would', 'work', 'better', 'non', 'giallo', 'fan', 'get', 'interest', 'genre', 'later', 'argento', 'entry', 'go', 'overboard', 'direction', 'fan', 'craze', 'italian', 'thriller', 'appreciate', 'george', 'hilton', 'turn', 'character', 'take', 'put', 'camera', 'work', 'fresh', 'dash', 'graphic', 'violence', 'odd', 'appropriate', 'choice', 'good', 'overblown', 'music', 'score', 'well', 'less', 'know', 'story', 'better', 'make', 'work', 'thing', 'lack', 'keep', 'great', 'sergio', 'martino', 'direct', 'giallo', 'story', 'extra', 'sexual', 'psychological', 'element', 'put', 'top', 'routine', 'mystery', 'character', 'well', 'define', 'live', 'die', 'accord', 'plot', 'accord', 'virtue', 'flaw', 'recent', 'dvd', 'release', 'beautiful', 'look', 'definitely', 'way', 'see', 'film', 'unless', 'ever', 'get', 'art', 'house', 'screen', 'seem', 'unlikely']]\n",
            "\n",
            "### Sample Preprocessed Testing Review ###\n",
            "[['rent', 'movie', 'two', 'reason', 'first', 'wa', 'good', 'thing', 'read', 'definately', 'wa', 'impress', 'agree', 'review', 'read', 'second', 'reason', 'know', 'guy', 'know', 'mark', 'well', 'mike', 'change', 'much', 'year', 'know', 'know', 'reaper', 'local', 'milwaukee', 'radio', 'station', 'wmse', 'way', 'film', 'genuinely', 'mike', 'give', 'table', 'make', 'wa', 'little', 'one', 'high', 'say', 'metallica', 'odd', 'thing', 'wa', 'two', 'leg', 'sometimes', 'think', 'count', 'mike', 'always', 'ha', 'think', 'others', 'first'], ['watch', 'movie', 'help', 'draw', 'comparison', 'wild', 'reed', 'another', 'thoughtful', 'film', 'teenager', 'come', 'age', 'like', 'wild', 'reed', 'movie', 'slow', 'director', 'would', 'hurry', 'want', 'quick', 'resolution', 'thing', 'watch', 'movie', 'like', 'slice', 'life', 'begin', 'imperfectly', 'end', 'imperfectly', 'resolution', 'anything', 'happily', 'ever', 'anybody', 'like', 'real', 'life', 'movie', 'real', 'get', 'act', 'surprisingly', 'good', 'director', 'fond', 'long', 'really', 'long', 'shoot', 'actor', 'actress', 'excel', 'show', 'subtlety', 'inner', 'think', 'love', 'movie', 'almost', 'watch', 'glad', 'movie', 'everyone', 'let', 'grow', 'reward']]\n"
          ]
        }
      ],
      "source": [
        "num_train = len(train_data_pos) + len(train_data_neg)\n",
        "\n",
        "# Slice preprocessed reviews to get only the training set portion\n",
        "X_train_preprocessed = all_reviews_preprocessed[:num_train]\n",
        "\n",
        "# Slice preprocessed reviews to get only the testing set portion\n",
        "X_test_preprocessed = all_reviews_preprocessed[num_train:]\n",
        "\n",
        "# Print the length of each training example to verify\n",
        "print(f\"Number of training examples (preprocessed): {len(X_train_preprocessed)}\")\n",
        "print(f\"Number of testing examples (preprocessed): {len(X_test_preprocessed)}\")\n",
        "\n",
        "print(\"\\n### Sample Preprocessed Training Review ###\")\n",
        "print(X_train_preprocessed[:2])\n",
        "\n",
        "print(\"\\n### Sample Preprocessed Testing Review ###\")\n",
        "print(X_test_preprocessed[:2])"
      ]
    },
    {
      "cell_type": "code",
      "execution_count": null,
      "metadata": {
        "colab": {
          "base_uri": "https://localhost:8080/"
        },
        "id": "HnCqRe7VN8Xg",
        "outputId": "4ab16a66-641a-43b5-9deb-d5bebb13482c"
      },
      "outputs": [
        {
          "output_type": "execute_result",
          "data": {
            "text/plain": [
              "2000"
            ]
          },
          "metadata": {},
          "execution_count": 55
        }
      ],
      "source": [
        "len(train_data_pos)"
      ]
    },
    {
      "cell_type": "code",
      "execution_count": null,
      "metadata": {
        "colab": {
          "base_uri": "https://localhost:8080/"
        },
        "id": "R8aKuguU8TiI",
        "outputId": "1d38a9da-4300-44ee-9d43-51842a7255b6"
      },
      "outputs": [
        {
          "output_type": "stream",
          "name": "stdout",
          "text": [
            "4000\n"
          ]
        }
      ],
      "source": [
        "# Let's see how many reviews we have in total for training\n",
        "# We should get 2000 if you kept the sample_number=1000\n",
        "# print(X_train_preprocessed.shape)\n",
        "print(len(X_train_preprocessed))"
      ]
    },
    {
      "cell_type": "markdown",
      "metadata": {
        "id": "ifjZTpu2FKwk"
      },
      "source": [
        "## Compute Word2Vec vectors on all reviews"
      ]
    },
    {
      "cell_type": "code",
      "execution_count": null,
      "metadata": {
        "colab": {
          "base_uri": "https://localhost:8080/"
        },
        "id": "Kl1V-yyBFGti",
        "outputId": "4ae43864-b87c-4009-f810-fe1cd50bf5ce"
      },
      "outputs": [
        {
          "output_type": "stream",
          "name": "stdout",
          "text": [
            "### Compute Phrases Begin ###\n",
            "### Compute Phrases End ###\n",
            "\n",
            "### Sample Review with Bigrams ###\n",
            "['bizarre', 'horror', 'movie', 'fill', 'famous', 'face', 'steal', 'cristina_rain', 'later', 'tv', 'flamingo', 'road', 'pretty', 'somewhat', 'unstable', 'model', 'gummy', 'smile', 'slat', 'pay', 'attempt', 'suicide', 'guard', 'gateway', 'hell', 'scene', 'rain', 'model', 'well', 'capture', 'mood', 'music', 'perfect', 'deborah', 'raffin', 'charm', 'cristina', 'pal', 'rain', 'move', 'creepy', 'brooklyn', 'height', 'brownstone', 'inhabit', 'blind', 'priest', 'top', 'floor', 'thing', 'really', 'start', 'cook', 'neighbor', 'include', 'fantastically', 'wicked', 'burgess_meredith', 'kinky', 'couple', 'sylvia', 'mile', 'beverly_angelo', 'diabolical', 'lot', 'eli_wallach', 'great', 'fun', 'wily', 'police_detective', 'movie', 'nearly', 'cross', 'pollination', 'rosemary_baby', 'exorcist', 'combination', 'base', 'best_seller', 'jeffrey', 'konvitz', 'sentinel', 'entertainingly', 'spooky', 'full', 'shock', 'bring', 'well', 'director', 'michael', 'winner', 'mount', 'thoughtfully', 'downbeat', 'end', 'skill']\n",
            "\n",
            "### Sample Review with Trigrams ###\n",
            "['bizarre', 'horror_movie', 'fill', 'famous', 'face', 'steal', 'cristina_rain', 'later', 'tv', 'flamingo', 'road', 'pretty', 'somewhat', 'unstable', 'model', 'gummy', 'smile', 'slat', 'pay', 'attempt', 'suicide', 'guard', 'gateway', 'hell', 'scene', 'rain', 'model', 'well', 'capture', 'mood', 'music', 'perfect', 'deborah', 'raffin', 'charm', 'cristina', 'pal', 'rain', 'move', 'creepy', 'brooklyn', 'height', 'brownstone', 'inhabit', 'blind', 'priest', 'top', 'floor', 'thing', 'really', 'start', 'cook', 'neighbor', 'include', 'fantastically', 'wicked', 'burgess_meredith', 'kinky', 'couple', 'sylvia_mile', 'beverly_angelo', 'diabolical', 'lot', 'eli_wallach', 'great_fun', 'wily', 'police_detective', 'movie', 'nearly', 'cross', 'pollination', 'rosemary_baby', 'exorcist', 'combination', 'base', 'best_seller', 'jeffrey', 'konvitz', 'sentinel', 'entertainingly', 'spooky', 'full', 'shock', 'bring', 'well', 'director_michael', 'winner', 'mount', 'thoughtfully', 'downbeat_end', 'skill']\n"
          ]
        }
      ],
      "source": [
        "from gensim.models.phrases import Phrases, Phraser\n",
        "from gensim.models import Word2Vec\n",
        "\n",
        "print(\"### Compute Phrases Begin ###\")\n",
        "\n",
        "# Compute bigrams from all preprocessed reviews\n",
        "bigrams_model = Phrases(sentences=all_reviews_preprocessed, min_count=5, threshold=10)\n",
        "bigrams = Phraser(bigrams_model)\n",
        "\n",
        "# Transform all reviews to include detected bigrams\n",
        "all_reviews_bigrams = [bigrams[review] for review in all_reviews_preprocessed]\n",
        "\n",
        "# Compute trigrams based on the bigrams output\n",
        "trigrams_model = Phrases(sentences=all_reviews_bigrams, min_count=3, threshold=5)\n",
        "trigrams = Phraser(trigrams_model)\n",
        "\n",
        "# Transform all reviews to include detected trigrams\n",
        "all_reviews_trigrams = [trigrams[review] for review in all_reviews_bigrams]\n",
        "\n",
        "print(\"### Compute Phrases End ###\")\n",
        "\n",
        "print(\"\\n### Sample Review with Bigrams ###\")\n",
        "print(all_reviews_bigrams[0])\n",
        "\n",
        "print(\"\\n### Sample Review with Trigrams ###\")\n",
        "print(all_reviews_trigrams[0])"
      ]
    },
    {
      "cell_type": "code",
      "execution_count": null,
      "metadata": {
        "colab": {
          "base_uri": "https://localhost:8080/"
        },
        "id": "rRepsD6YCnCK",
        "outputId": "2060b0c1-4bf3-41c6-8ae0-b7d7b828baa3"
      },
      "outputs": [
        {
          "output_type": "stream",
          "name": "stdout",
          "text": [
            "['space_station', 'near', 'the', 'solar', 'system']\n"
          ]
        }
      ],
      "source": [
        "# Test how our phrase looks after calling the bigrams\n",
        "print(bigrams['space station near the solar system'.split()])"
      ]
    },
    {
      "cell_type": "code",
      "execution_count": null,
      "metadata": {
        "colab": {
          "base_uri": "https://localhost:8080/"
        },
        "id": "_1x4MR6Iv1UW",
        "outputId": "444341eb-4a9e-4fa9-dbf1-ac924f774e62"
      },
      "outputs": [
        {
          "output_type": "stream",
          "name": "stdout",
          "text": [
            "['space_station', 'near', 'the', 'solar', 'system']\n"
          ]
        }
      ],
      "source": [
        "# Test how our phrase looks after calling the trigrams\n",
        "# Do you notice any difference compared with the bigrams?\n",
        "print(trigrams[bigrams['space station near the solar system'.split()]])"
      ]
    },
    {
      "cell_type": "code",
      "execution_count": null,
      "metadata": {
        "colab": {
          "base_uri": "https://localhost:8080/"
        },
        "id": "no71z1UvDFBn",
        "outputId": "184eac0e-ddb8-4d4a-e276-1b4687f8cff8"
      },
      "outputs": [
        {
          "output_type": "stream",
          "name": "stdout",
          "text": [
            "Start learning the word embedding\n",
            "Done learning\n"
          ]
        }
      ],
      "source": [
        "print(\"Start learning the word embedding\")\n",
        "embedding_vector_size = 256\n",
        "trigram_model = Word2Vec(\n",
        "    sentences=all_reviews_trigrams,\n",
        "    vector_size=256,\n",
        "    min_count=5,\n",
        "    window=5,\n",
        "    workers=4,\n",
        "    sg=1,\n",
        "    epochs=10\n",
        ")\n",
        "print(\"Done learning\")"
      ]
    },
    {
      "cell_type": "markdown",
      "metadata": {
        "id": "3AcRcTpIJhXv"
      },
      "source": [
        "Check what is the vocabulary size"
      ]
    },
    {
      "cell_type": "code",
      "execution_count": null,
      "metadata": {
        "colab": {
          "base_uri": "https://localhost:8080/"
        },
        "id": "1SKWyBnZD7Ig",
        "outputId": "0967f98b-7281-483c-8864-8c24ac23d737"
      },
      "outputs": [
        {
          "output_type": "stream",
          "name": "stdout",
          "text": [
            "Vocabulary size: 17976\n"
          ]
        }
      ],
      "source": [
        "print(\"Vocabulary size:\", len(trigram_model.wv))"
      ]
    },
    {
      "cell_type": "markdown",
      "metadata": {
        "id": "R2eqqZpSJ5eH"
      },
      "source": [
        "Let's check the most similar words for \"movie\" & \"galaxy\""
      ]
    },
    {
      "cell_type": "code",
      "execution_count": null,
      "metadata": {
        "colab": {
          "base_uri": "https://localhost:8080/"
        },
        "id": "gEQ3aXWZEBDn",
        "outputId": "5c2ba6df-8564-48a5-abe9-32bc73c92869"
      },
      "outputs": [
        {
          "output_type": "execute_result",
          "data": {
            "text/plain": [
              "[('sci_fi_movie', 0.6957032680511475),\n",
              " ('dark_harvest', 0.6926688551902771),\n",
              " ('foreign_film', 0.6889390349388123),\n",
              " ('definately', 0.6885450482368469),\n",
              " ('movie_sci_fi', 0.6861522793769836),\n",
              " ('roll_floor', 0.6855193972587585),\n",
              " ('cant_believe', 0.6846780180931091),\n",
              " ('wait_wait', 0.6812870502471924),\n",
              " ('pola_x', 0.6799310445785522),\n",
              " ('commenter', 0.6776955723762512)]"
            ]
          },
          "metadata": {},
          "execution_count": 62
        }
      ],
      "source": [
        "trigram_model.wv.most_similar('movie')\n",
        "# If you are working with the subset of 1000 reviews, the most similar words might not be\n",
        "# the most relevant ones. You can remove the constraint of working with only 1000 reviews,\n",
        "# and compare what are the most similar words again, but please be aware that this might\n",
        "# increase the training time of the word2vec"
      ]
    },
    {
      "cell_type": "code",
      "execution_count": null,
      "metadata": {
        "colab": {
          "base_uri": "https://localhost:8080/"
        },
        "id": "jH2o-1CXtGgk",
        "outputId": "2c06b3fe-e303-48de-c805-0ffc2eed0596"
      },
      "outputs": [
        {
          "output_type": "execute_result",
          "data": {
            "text/plain": [
              "[('car_chase', 0.5393440127372742),\n",
              " ('van_damme', 0.5344326496124268),\n",
              " ('martial_art', 0.5282161831855774),\n",
              " ('action_sequence', 0.5177546739578247),\n",
              " ('fast_pace', 0.5166077017784119),\n",
              " ('shoot_em', 0.5149741768836975),\n",
              " ('low_grade', 0.5104499459266663),\n",
              " ('enrich', 0.5050894618034363),\n",
              " ('weak_attempt', 0.5010796785354614),\n",
              " ('jean_claude', 0.49659088253974915)]"
            ]
          },
          "metadata": {},
          "execution_count": 63
        }
      ],
      "source": [
        "trigram_model.wv.most_similar('action')"
      ]
    },
    {
      "cell_type": "markdown",
      "metadata": {
        "id": "ulf_As1CKO88"
      },
      "source": [
        "Given a list of words identify which word does not match with the others"
      ]
    },
    {
      "cell_type": "code",
      "execution_count": null,
      "metadata": {
        "colab": {
          "base_uri": "https://localhost:8080/",
          "height": 36
        },
        "id": "9-7HRVEniDaO",
        "outputId": "9218f495-94e8-49ab-d495-886dc2e77c95"
      },
      "outputs": [
        {
          "output_type": "execute_result",
          "data": {
            "text/plain": [
              "'planet'"
            ],
            "application/vnd.google.colaboratory.intrinsic+json": {
              "type": "string"
            }
          },
          "metadata": {},
          "execution_count": 64
        }
      ],
      "source": [
        "trigram_model.wv.doesnt_match(['movie', 'action', 'planet'])"
      ]
    },
    {
      "cell_type": "markdown",
      "metadata": {
        "id": "VRxTbMIXKaza"
      },
      "source": [
        "## **Transform our reviews from the training set into vectors\n",
        "\n",
        "\n",
        "---\n",
        "\n"
      ]
    },
    {
      "cell_type": "code",
      "execution_count": null,
      "metadata": {
        "colab": {
          "base_uri": "https://localhost:8080/"
        },
        "id": "epORdcayEJDx",
        "outputId": "a7533169-325b-4d8e-fc9b-84fc92008fa1"
      },
      "outputs": [
        {
          "output_type": "stream",
          "name": "stdout",
          "text": [
            "Convert sentences to sentences with ngrams... (done)\n",
            "Vectorizing sentences... (done)\n",
            "Transform sentences to sequences on the train set... (done)\n",
            "Vectorizing sentences... (done)\n",
            "Transform sentences to sequences on the test set... (done)\n"
          ]
        }
      ],
      "source": [
        "def vectorize_data(data, vocab: dict) -> list:\n",
        "    \"\"\"Converts tokenized data into vectors based on the vocabulary.\"\"\"\n",
        "    print('Vectorizing sentences...', end='\\r')\n",
        "    keys = list(vocab.keys())\n",
        "    filter_unknown = lambda word: vocab.get(word, None) is not None\n",
        "    encode = lambda review: list(map(keys.index, filter(filter_unknown, review)))\n",
        "    vectorized = list(map(encode, data))\n",
        "    print('Vectorizing sentences... (done)')\n",
        "    return vectorized\n",
        "\n",
        "print('Convert sentences to sentences with ngrams...', end='\\r')\n",
        "X_data = trigrams[bigrams[X_train_preprocessed]]\n",
        "print('Convert sentences to sentences with ngrams... (done)')\n",
        "\n",
        "input_length = 150\n",
        "\n",
        "X_pad_train = pad_sequences(\n",
        "    sequences=vectorize_data(X_data, vocab=trigram_model.wv.key_to_index),\n",
        "    maxlen=input_length,\n",
        "    padding='post'\n",
        ")\n",
        "print('Transform sentences to sequences on the train set... (done)')\n",
        "\n",
        "X_data_test = trigrams[bigrams[X_test_preprocessed]]\n",
        "X_pad_test = pad_sequences(\n",
        "    sequences=vectorize_data(X_data_test, vocab=trigram_model.wv.key_to_index),\n",
        "    maxlen=input_length,\n",
        "    padding='post'\n",
        ")\n",
        "print('Transform sentences to sequences on the test set... (done)')"
      ]
    },
    {
      "cell_type": "code",
      "execution_count": null,
      "metadata": {
        "colab": {
          "base_uri": "https://localhost:8080/"
        },
        "id": "zy4ZO3TrhXO8",
        "outputId": "94ae3106-41b8-4e44-c3ae-85bf44d8b20a"
      },
      "outputs": [
        {
          "output_type": "execute_result",
          "data": {
            "text/plain": [
              "array([13717,    57,  7946,    38,  1184,  9057,  3053,    44,  7167,\n",
              "         373,   794,   101,  4668, 13717,   541,  1184,   867,   747,\n",
              "       16159,   315,    15,  7946,   794,  3038,     2,   522,  6594,\n",
              "        1689,  1091,   987,  4722,   384,   223,    57,  1778,   966,\n",
              "          19,  1273,  5732,  3038,  1152,   130,    65,   430,   317,\n",
              "         297,    18,   155,    55,     3,    59,  1184,  7946,   794,\n",
              "          55,   954,   794,  4668,    18,  1017,   179, 12242,  3038,\n",
              "       13657,  1570, 13656,     0,     0,     0,     0,     0,     0,\n",
              "           0,     0,     0,     0,     0,     0,     0,     0,     0,\n",
              "           0,     0,     0,     0,     0,     0,     0,     0,     0,\n",
              "           0,     0,     0,     0,     0,     0,     0,     0,     0,\n",
              "           0,     0,     0,     0,     0,     0,     0,     0,     0,\n",
              "           0,     0,     0,     0,     0,     0,     0,     0,     0,\n",
              "           0,     0,     0,     0,     0,     0,     0,     0,     0,\n",
              "           0,     0,     0,     0,     0,     0,     0,     0,     0,\n",
              "           0,     0,     0,     0,     0,     0,     0,     0,     0,\n",
              "           0,     0,     0,     0,     0,     0], dtype=int32)"
            ]
          },
          "metadata": {},
          "execution_count": 66
        }
      ],
      "source": [
        "# For a given example, each number in the vector represents the position of the word in the vocabulary\n",
        "X_pad_train[2]"
      ]
    },
    {
      "cell_type": "markdown",
      "metadata": {
        "id": "4AN9nzI8L_ET"
      },
      "source": [
        "# Train a classifier based on a particular type of recurrent neural network called LSTM to differentiate between positive and negative reviews"
      ]
    },
    {
      "cell_type": "code",
      "execution_count": null,
      "metadata": {
        "colab": {
          "base_uri": "https://localhost:8080/"
        },
        "id": "bzUtHSypGPLq",
        "outputId": "9590a871-09e2-4664-d2e8-91fbc9a48466"
      },
      "outputs": [
        {
          "output_type": "stream",
          "name": "stdout",
          "text": [
            "Training set size: 3200\n",
            "Validation set size: 800\n",
            "Test set size: 4000\n"
          ]
        }
      ],
      "source": [
        "from sklearn.model_selection import train_test_split\n",
        "\n",
        "# Step 1: Split training data into train and validation sets (80% train, 20% validation data split)\n",
        "X_train, X_val, y_train, y_val = train_test_split(\n",
        "    X_pad_train,  # Padded training data\n",
        "    data_train['label'],  # Labels\n",
        "    test_size=0.2,  # 20% validation split\n",
        "    random_state=42,\n",
        "    shuffle=True\n",
        ")\n",
        "\n",
        "# Step 2: Assign test data\n",
        "X_test = X_pad_test\n",
        "y_test = data_test['label']\n",
        "\n",
        "# Print dataset sizez for verification\n",
        "print(f\"Training set size: {X_train.shape[0]}\")\n",
        "print(f\"Validation set size: {X_val.shape[0]}\")\n",
        "print(f\"Test set size: {X_test.shape[0]}\")"
      ]
    },
    {
      "cell_type": "code",
      "execution_count": null,
      "metadata": {
        "colab": {
          "base_uri": "https://localhost:8080/",
          "height": 458
        },
        "id": "_E7PFRSS30ar",
        "outputId": "2ee803be-c76e-412f-d5c0-3f9e013f1f15"
      },
      "outputs": [
        {
          "output_type": "execute_result",
          "data": {
            "text/plain": [
              "0       1\n",
              "1       1\n",
              "2       1\n",
              "3       1\n",
              "4       1\n",
              "       ..\n",
              "3995    0\n",
              "3996    0\n",
              "3997    0\n",
              "3998    0\n",
              "3999    0\n",
              "Name: label, Length: 4000, dtype: int64"
            ],
            "text/html": [
              "<div>\n",
              "<style scoped>\n",
              "    .dataframe tbody tr th:only-of-type {\n",
              "        vertical-align: middle;\n",
              "    }\n",
              "\n",
              "    .dataframe tbody tr th {\n",
              "        vertical-align: top;\n",
              "    }\n",
              "\n",
              "    .dataframe thead th {\n",
              "        text-align: right;\n",
              "    }\n",
              "</style>\n",
              "<table border=\"1\" class=\"dataframe\">\n",
              "  <thead>\n",
              "    <tr style=\"text-align: right;\">\n",
              "      <th></th>\n",
              "      <th>label</th>\n",
              "    </tr>\n",
              "  </thead>\n",
              "  <tbody>\n",
              "    <tr>\n",
              "      <th>0</th>\n",
              "      <td>1</td>\n",
              "    </tr>\n",
              "    <tr>\n",
              "      <th>1</th>\n",
              "      <td>1</td>\n",
              "    </tr>\n",
              "    <tr>\n",
              "      <th>2</th>\n",
              "      <td>1</td>\n",
              "    </tr>\n",
              "    <tr>\n",
              "      <th>3</th>\n",
              "      <td>1</td>\n",
              "    </tr>\n",
              "    <tr>\n",
              "      <th>4</th>\n",
              "      <td>1</td>\n",
              "    </tr>\n",
              "    <tr>\n",
              "      <th>...</th>\n",
              "      <td>...</td>\n",
              "    </tr>\n",
              "    <tr>\n",
              "      <th>3995</th>\n",
              "      <td>0</td>\n",
              "    </tr>\n",
              "    <tr>\n",
              "      <th>3996</th>\n",
              "      <td>0</td>\n",
              "    </tr>\n",
              "    <tr>\n",
              "      <th>3997</th>\n",
              "      <td>0</td>\n",
              "    </tr>\n",
              "    <tr>\n",
              "      <th>3998</th>\n",
              "      <td>0</td>\n",
              "    </tr>\n",
              "    <tr>\n",
              "      <th>3999</th>\n",
              "      <td>0</td>\n",
              "    </tr>\n",
              "  </tbody>\n",
              "</table>\n",
              "<p>4000 rows × 1 columns</p>\n",
              "</div><br><label><b>dtype:</b> int64</label>"
            ]
          },
          "metadata": {},
          "execution_count": 68
        }
      ],
      "source": [
        "data_test['label']"
      ]
    },
    {
      "cell_type": "markdown",
      "metadata": {
        "id": "MbChe-TENItQ"
      },
      "source": [
        "Define the Neural Network"
      ]
    },
    {
      "cell_type": "code",
      "execution_count": null,
      "metadata": {
        "colab": {
          "base_uri": "https://localhost:8080/"
        },
        "id": "5Q7SQhK9F3Zp",
        "outputId": "0e330532-c389-4a15-ab51-4a8b8c1b4fc6"
      },
      "outputs": [
        {
          "output_type": "stream",
          "name": "stderr",
          "text": [
            "/usr/local/lib/python3.10/dist-packages/keras/src/layers/core/embedding.py:90: UserWarning: Argument `input_length` is deprecated. Just remove it.\n",
            "  warnings.warn(\n"
          ]
        }
      ],
      "source": [
        "### Begin your code here\n",
        "# Define a neural network model\n",
        "# TIP: Use the same sequential model in order to define the network:\n",
        "# https://www.tensorflow.org/guide/keras/sequential_model\n",
        "# You can also see an example in the MNIST lab.\n",
        "# Add the following layers:\n",
        "# 1. an Embedding layer of the following form:\n",
        "# tf.keras.layers.Embedding(\n",
        "#         input_dim = trigram_model.wv.vectors.shape[0],\n",
        "#         output_dim = trigram_model.wv.vectors.shape[1],\n",
        "#         input_length = input_length,\n",
        "#         weights = [trigram_model.wv.vectors],\n",
        "#         trainable=False)\n",
        "# 2. A Bidirectional layer with LSTM, with 128 internal units and a recurrent dropout of 0.1\n",
        "# A sentence can be considered a temporal sequence, where the order of the words\n",
        "# might be important. This is why we need a temporal model, like a Long short-term memory model.\n",
        "# A bidirectional model, simply means that the we want to parse the data both forward\n",
        "# and backwards. This allows the network to capture both past and future context for each time step.\n",
        "# See example here: https://www.tensorflow.org/api_docs/python/tf/keras/layers/Bidirectional\n",
        "# eg: tf.keras.layers.Bidirectional(tf.keras.layers.LSTM(128, recurrent_dropout=0.1)),\n",
        "# 3. A dropout layer with 0.25 probability\n",
        "# You will find an example of dropout layer in the previous MNIST lab.\n",
        "# See example here: https://www.tensorflow.org/api_docs/python/tf/keras/layers/Dropout\n",
        "# 4. A Dense layer with 64 internal units\n",
        "# You will find an example of a dense layer in the previous MNIST lab.\n",
        "# 5. A dropout layer with 0.3 probability\n",
        "# 6. A final dense layer with 1 neuron and a sigmoid activation function\n",
        "# tf.keras.layers.Dense(1, activation='sigmoid')\n",
        "\n",
        "import tensorflow as tf\n",
        "from tensorflow.keras import Sequential\n",
        "from tensorflow.keras.layers import Embedding, Bidirectional, LSTM, Dropout, Dense, GRU\n",
        "from tensorflow.keras.preprocessing.text import Tokenizer\n",
        "from tensorflow.keras.layers import BatchNormalization\n",
        "\n",
        "\n",
        "vocab_size = len(trigram_model.wv.key_to_index)\n",
        "embedding_dim = trigram_model.wv.vectors.shape[1]\n",
        "\n",
        "# LSTM model\n",
        "model1 = Sequential([\n",
        "    Embedding(input_dim=vocab_size, output_dim=embedding_dim, weights=[trigram_model.wv.vectors], trainable=True),\n",
        "    BatchNormalization(),\n",
        "    Bidirectional(LSTM(256, return_sequences=True, recurrent_dropout=0.2)),\n",
        "    Dropout(0.2),\n",
        "    Bidirectional(LSTM(128)),\n",
        "    Dropout(0.15),\n",
        "    Dense(128, activation='relu'),\n",
        "    Dropout(0.1),\n",
        "    Dense(1, activation='sigmoid')\n",
        "])\n",
        "\n",
        "# Stacked LSTM\n",
        "model2 = Sequential([\n",
        "    Embedding(input_dim=vocab_size, output_dim=128, input_length=input_length),\n",
        "    LSTM(128, return_sequences=True),\n",
        "    Dropout(0.15),\n",
        "    LSTM(64),\n",
        "    Dropout(0.15),\n",
        "    Dense(64, activation='relu'),\n",
        "    Dropout(0.1),\n",
        "    Dense(1, activation='sigmoid')\n",
        "\n",
        "])\n",
        "\n",
        "# GRU with bidirectional layer\n",
        "model3 = tf.keras.Sequential([\n",
        "    tf.keras.layers.Embedding(input_dim=vocab_size, output_dim=embedding_dim),\n",
        "    tf.keras.layers.Bidirectional(tf.keras.layers.GRU(64)),\n",
        "    tf.keras.layers.Dropout(0.2),\n",
        "    tf.keras.layers.Dense(1, activation='sigmoid')\n",
        "])\n",
        "\n",
        "### End your code here"
      ]
    },
    {
      "cell_type": "code",
      "execution_count": null,
      "metadata": {
        "id": "4UyMUAxPmp5Z"
      },
      "outputs": [],
      "source": [
        "# compile the model\n",
        "from tensorflow.keras.optimizers import Adam\n",
        "\n",
        "# Model 1 - Basic LSTM\n",
        "model1.compile(\n",
        "    loss='binary_crossentropy',\n",
        "    optimizer=Adam(learning_rate=0.0005),\n",
        "    metrics=['accuracy']\n",
        ")\n",
        "\n",
        "# Model 2 - Stacked LSTM\n",
        "model2.compile(\n",
        "    loss='binary_crossentropy',\n",
        "    optimizer=Adam(learning_rate=0.0007),\n",
        "    metrics=['accuracy']\n",
        ")\n",
        "\n",
        "# Model 3 - Bidirectional GRU\n",
        "model3.compile(\n",
        "    loss='binary_crossentropy',\n",
        "    optimizer=Adam(learning_rate=0.0003),\n",
        "    metrics=['accuracy']\n",
        ")"
      ]
    },
    {
      "cell_type": "code",
      "execution_count": null,
      "metadata": {
        "colab": {
          "base_uri": "https://localhost:8080/"
        },
        "id": "91DuUpuBHJUn",
        "outputId": "700dcb11-2363-4a16-8ec6-2f045faf78a0"
      },
      "outputs": [
        {
          "output_type": "stream",
          "name": "stdout",
          "text": [
            "Epoch 1/4\n",
            "\u001b[1m100/100\u001b[0m \u001b[32m━━━━━━━━━━━━━━━━━━━━\u001b[0m\u001b[37m\u001b[0m \u001b[1m41s\u001b[0m 363ms/step - accuracy: 0.6512 - loss: 0.5910 - val_accuracy: 0.6800 - val_loss: 0.6952\n",
            "Epoch 2/4\n",
            "\u001b[1m100/100\u001b[0m \u001b[32m━━━━━━━━━━━━━━━━━━━━\u001b[0m\u001b[37m\u001b[0m \u001b[1m40s\u001b[0m 351ms/step - accuracy: 0.8557 - loss: 0.3431 - val_accuracy: 0.7350 - val_loss: 0.9386\n",
            "Epoch 3/4\n",
            "\u001b[1m100/100\u001b[0m \u001b[32m━━━━━━━━━━━━━━━━━━━━\u001b[0m\u001b[37m\u001b[0m \u001b[1m40s\u001b[0m 346ms/step - accuracy: 0.9336 - loss: 0.1861 - val_accuracy: 0.8238 - val_loss: 0.5999\n",
            "Epoch 4/4\n",
            "\u001b[1m100/100\u001b[0m \u001b[32m━━━━━━━━━━━━━━━━━━━━\u001b[0m\u001b[37m\u001b[0m \u001b[1m36s\u001b[0m 361ms/step - accuracy: 0.9756 - loss: 0.0687 - val_accuracy: 0.8163 - val_loss: 0.6369\n",
            "Epoch 1/8\n",
            "\u001b[1m100/100\u001b[0m \u001b[32m━━━━━━━━━━━━━━━━━━━━\u001b[0m\u001b[37m\u001b[0m \u001b[1m5s\u001b[0m 19ms/step - accuracy: 0.5370 - loss: 0.6910 - val_accuracy: 0.4863 - val_loss: 0.6937\n",
            "Epoch 2/8\n",
            "\u001b[1m100/100\u001b[0m \u001b[32m━━━━━━━━━━━━━━━━━━━━\u001b[0m\u001b[37m\u001b[0m \u001b[1m2s\u001b[0m 15ms/step - accuracy: 0.5249 - loss: 0.6921 - val_accuracy: 0.5075 - val_loss: 0.6932\n",
            "Epoch 3/8\n",
            "\u001b[1m100/100\u001b[0m \u001b[32m━━━━━━━━━━━━━━━━━━━━\u001b[0m\u001b[37m\u001b[0m \u001b[1m2s\u001b[0m 15ms/step - accuracy: 0.6147 - loss: 0.6624 - val_accuracy: 0.5325 - val_loss: 0.6983\n",
            "Epoch 4/8\n",
            "\u001b[1m100/100\u001b[0m \u001b[32m━━━━━━━━━━━━━━━━━━━━\u001b[0m\u001b[37m\u001b[0m \u001b[1m2s\u001b[0m 15ms/step - accuracy: 0.6238 - loss: 0.5800 - val_accuracy: 0.5038 - val_loss: 0.7663\n",
            "Epoch 5/8\n",
            "\u001b[1m100/100\u001b[0m \u001b[32m━━━━━━━━━━━━━━━━━━━━\u001b[0m\u001b[37m\u001b[0m \u001b[1m1s\u001b[0m 15ms/step - accuracy: 0.6742 - loss: 0.5229 - val_accuracy: 0.7013 - val_loss: 0.6747\n",
            "Epoch 6/8\n",
            "\u001b[1m100/100\u001b[0m \u001b[32m━━━━━━━━━━━━━━━━━━━━\u001b[0m\u001b[37m\u001b[0m \u001b[1m2s\u001b[0m 19ms/step - accuracy: 0.8079 - loss: 0.4465 - val_accuracy: 0.6888 - val_loss: 0.7862\n",
            "Epoch 7/8\n",
            "\u001b[1m100/100\u001b[0m \u001b[32m━━━━━━━━━━━━━━━━━━━━\u001b[0m\u001b[37m\u001b[0m \u001b[1m2s\u001b[0m 22ms/step - accuracy: 0.8065 - loss: 0.4391 - val_accuracy: 0.6988 - val_loss: 0.7243\n",
            "Epoch 8/8\n",
            "\u001b[1m100/100\u001b[0m \u001b[32m━━━━━━━━━━━━━━━━━━━━\u001b[0m\u001b[37m\u001b[0m \u001b[1m2s\u001b[0m 15ms/step - accuracy: 0.8431 - loss: 0.3946 - val_accuracy: 0.6675 - val_loss: 0.8191\n",
            "Epoch 1/5\n",
            "\u001b[1m200/200\u001b[0m \u001b[32m━━━━━━━━━━━━━━━━━━━━\u001b[0m\u001b[37m\u001b[0m \u001b[1m5s\u001b[0m 16ms/step - accuracy: 0.4999 - loss: 0.6928 - val_accuracy: 0.5675 - val_loss: 0.6749\n",
            "Epoch 2/5\n",
            "\u001b[1m200/200\u001b[0m \u001b[32m━━━━━━━━━━━━━━━━━━━━\u001b[0m\u001b[37m\u001b[0m \u001b[1m3s\u001b[0m 16ms/step - accuracy: 0.8081 - loss: 0.4986 - val_accuracy: 0.7825 - val_loss: 0.4685\n",
            "Epoch 3/5\n",
            "\u001b[1m200/200\u001b[0m \u001b[32m━━━━━━━━━━━━━━━━━━━━\u001b[0m\u001b[37m\u001b[0m \u001b[1m4s\u001b[0m 17ms/step - accuracy: 0.9610 - loss: 0.1211 - val_accuracy: 0.7837 - val_loss: 0.5219\n",
            "Epoch 4/5\n",
            "\u001b[1m200/200\u001b[0m \u001b[32m━━━━━━━━━━━━━━━━━━━━\u001b[0m\u001b[37m\u001b[0m \u001b[1m3s\u001b[0m 14ms/step - accuracy: 0.9966 - loss: 0.0281 - val_accuracy: 0.7550 - val_loss: 0.6506\n",
            "Epoch 5/5\n",
            "\u001b[1m200/200\u001b[0m \u001b[32m━━━━━━━━━━━━━━━━━━━━\u001b[0m\u001b[37m\u001b[0m \u001b[1m5s\u001b[0m 15ms/step - accuracy: 0.9994 - loss: 0.0082 - val_accuracy: 0.7937 - val_loss: 0.7450\n"
          ]
        }
      ],
      "source": [
        "### Begin your code here\n",
        "# Train the model with two epochs, and a batch size of 100.\n",
        "# Tip: The x is X_train, y is y_train, and validation_data is (X_val, y_val)\n",
        "# To view the model.fit function definition check here: https://www.tensorflow.org/api_docs/python/tf/keras/Model#fit\n",
        "# and also an example here: https://www.tensorflow.org/guide/keras/training_with_built_in_methods (Look for fit() )\n",
        "# To obtain a better accuracy you would need to train for more epochs. Find a right balance between the training time\n",
        "# and the accuracy\n",
        "# The parameters that you need to set are:\n",
        "# x as X_train\n",
        "# y as y_train\n",
        "# validation_data with the (X_val, y_val)\n",
        "# Choose and appropriate batch_size. You can experiment with different values and see how the model behaves.\n",
        "# When you first start training, only train for 1-2 epoch\n",
        "# Train the model with two epochs and a batch size of 100\n",
        "\n",
        "# Paramters for model1\n",
        "batch_size_model1 = 32\n",
        "epochs_model1 = 4\n",
        "\n",
        "history1 = model1.fit(\n",
        "    x=X_train,\n",
        "    y=y_train,\n",
        "    validation_data=(X_val, y_val),\n",
        "    batch_size=batch_size_model1,\n",
        "    epochs=epochs_model1,\n",
        ")\n",
        "\n",
        "# Parameters for model2\n",
        "batch_size_model2 = 32\n",
        "epochs_model2 = 8\n",
        "\n",
        "# Train model2 (Stacked LSTM)\n",
        "history2 = model2.fit(\n",
        "    x=X_train,\n",
        "    y=y_train,\n",
        "    validation_data=(X_val, y_val),\n",
        "    batch_size=batch_size_model2,\n",
        "    epochs=epochs_model2,\n",
        ")\n",
        "\n",
        "# Parameters for model3\n",
        "batch_size_model3 = 16\n",
        "epochs_model3 = 5\n",
        "\n",
        "# Train model3 (Bidirectional GRU)\n",
        "history3 = model3.fit(\n",
        "    x=X_train,\n",
        "    y=y_train,\n",
        "    validation_data=(X_val, y_val),\n",
        "    batch_size=batch_size_model3,\n",
        "    epochs=epochs_model3,\n",
        ")\n",
        "\n",
        "\n",
        "### End your code here\n"
      ]
    },
    {
      "cell_type": "code",
      "execution_count": null,
      "metadata": {
        "colab": {
          "base_uri": "https://localhost:8080/",
          "height": 564
        },
        "id": "WHc-p2qieW2l",
        "outputId": "b4f4a4b5-188a-45dc-884d-2e664e727ab6"
      },
      "outputs": [
        {
          "output_type": "display_data",
          "data": {
            "text/plain": [
              "<Figure size 800x600 with 1 Axes>"
            ],
            "image/png": "[encoded data removed]"
          },
          "metadata": {}
        }
      ],
      "source": [
        "# Extract the loss values for each epoch and display it in a figure\n",
        "# BEGIN YOUR CODE HERE\n",
        "\n",
        "import matplotlib.pyplot as plt\n",
        "import numpy as np\n",
        "\n",
        "# Extract loss values for training and validation from the history object\n",
        "train_loss = history1.history['loss']\n",
        "val_loss = history1.history['val_loss']\n",
        "\n",
        "# Create an array, epochs, containing integers from 1 to the number of epochs (inclusive)\n",
        "epochs = np.arange(1, len(train_loss) + 1)\n",
        "\n",
        "# Plot training and validation loss over epochs\n",
        "plt.figure(figsize=(8, 6))\n",
        "plt.plot(epochs, train_loss, label='Training Loss', marker='o')\n",
        "plt.plot(epochs, val_loss, label='Validation Loss', marker='o')\n",
        "\n",
        "# Add labels, title, grid, and legend\n",
        "plt.xlabel('Epochs')\n",
        "plt.ylabel('Loss')\n",
        "plt.title('Training and Validation Loss Over Epochs')\n",
        "plt.grid(True)\n",
        "plt.legend()\n",
        "\n",
        "# Show the plot\n",
        "plt.show()\n",
        "\n",
        "\n",
        "\n",
        "# END YOUR CODE HERE"
      ]
    },
    {
      "cell_type": "code",
      "execution_count": null,
      "metadata": {
        "colab": {
          "base_uri": "https://localhost:8080/"
        },
        "id": "iNqB9Ufej6eG",
        "outputId": "cf9d3a49-4fa3-4416-c7e1-3ae78361edcc"
      },
      "outputs": [
        {
          "output_type": "stream",
          "name": "stdout",
          "text": [
            "\u001b[1m125/125\u001b[0m \u001b[32m━━━━━━━━━━━━━━━━━━━━\u001b[0m\u001b[37m\u001b[0m \u001b[1m15s\u001b[0m 117ms/step - accuracy: 0.7823 - loss: 0.7834\n",
            "Model 1 (Basic LSTM) - Test Loss: 0.6650\n",
            "Model 1 (Basic LSTM) - Test Accuracy: 0.8150\n",
            "\u001b[1m125/125\u001b[0m \u001b[32m━━━━━━━━━━━━━━━━━━━━\u001b[0m\u001b[37m\u001b[0m \u001b[1m1s\u001b[0m 7ms/step - accuracy: 0.8037 - loss: 0.6553\n",
            "Model 2 (Stacked LSTM) - Test Loss: 0.8775\n",
            "Model 2 (Stacked LSTM) - Test Accuracy: 0.6410\n",
            "\u001b[1m125/125\u001b[0m \u001b[32m━━━━━━━━━━━━━━━━━━━━\u001b[0m\u001b[37m\u001b[0m \u001b[1m1s\u001b[0m 6ms/step - accuracy: 0.7623 - loss: 0.8360\n",
            "Model 3 (Bidirectional GRU) - Test Loss: 0.8091\n",
            "Model 3 (Bidirectional GRU) - Test Accuracy: 0.7730\n",
            "\n",
            "Summary of Model Evaluation:\n",
            "Model 1 - Test Accuracy: 0.8150, Test Loss: 0.6650\n",
            "Model 2 - Test Accuracy: 0.6410, Test Loss: 0.8775\n",
            "Model 3 - Test Accuracy: 0.7730, Test Loss: 0.8091\n"
          ]
        }
      ],
      "source": [
        "# BEGIN YOUR CODE HERE\n",
        "# What is the loss and accuracy on the Testing dataset?\n",
        "# Tip: instead of (x_test, y_test) we used in the lab last week, you can use\n",
        "# directly test_ds which contains both data and labels\n",
        "# https://www.tensorflow.org/api_docs/python/tf/keras/Model#evaluate\n",
        "# When you print the output of the evaluate function, it will return both\n",
        "# the loss and accuracy, maybe in a  format like [loss_value, accuracy_value]\n",
        "\n",
        "import tensorflow as tf\n",
        "import numpy as np\n",
        "\n",
        "#Add/remove to_numpy to reshape object if error appears when running\n",
        "y_test =y_test.to_numpy().reshape(-1, 1)\n",
        "\n",
        "test_ds = tf.data.Dataset.from_tensor_slices((X_pad_test, y_test)).batch(32)\n",
        "\n",
        "def evaluate_model(model, test_dataset, model_name):\n",
        "\n",
        "    test_loss, test_accuracy = model.evaluate(test_dataset)\n",
        "    print(f\"{model_name} - Test Loss: {test_loss:.4f}\")\n",
        "    print(f\"{model_name} - Test Accuracy: {test_accuracy:.4f}\")\n",
        "    return test_loss, test_accuracy\n",
        "\n",
        "# (Basic LSTM)\n",
        "test_loss1, test_accuracy1 = evaluate_model(model1, test_ds, \"Model 1 (Basic LSTM)\")\n",
        "\n",
        "# (Stacked LSTM)\n",
        "test_loss2, test_accuracy2 = evaluate_model(model2, test_ds, \"Model 2 (Stacked LSTM)\")\n",
        "\n",
        "# (Bidirectional GRU)\n",
        "test_loss3, test_accuracy3 = evaluate_model(model3, test_ds, \"Model 3 (Bidirectional GRU)\")\n",
        "\n",
        "print(\"\\nSummary of Model Evaluation:\")\n",
        "print(f\"Model 1 - Test Accuracy: {test_accuracy1:.4f}, Test Loss: {test_loss1:.4f}\")\n",
        "print(f\"Model 2 - Test Accuracy: {test_accuracy2:.4f}, Test Loss: {test_loss2:.4f}\")\n",
        "print(f\"Model 3 - Test Accuracy: {test_accuracy3:.4f}, Test Loss: {test_loss3:.4f}\")\n",
        "\n",
        "### End your code here\n",
        "\n",
        "# What is the accuracy you get?\n",
        "# If you get an accuracy of aprox 50%, what does it mean? Did your model learn?\n",
        "# Try to modify the architecture; how you train the model or how much data you\n",
        "# use to train it in order to improve the results.\n"
      ]
    },
    {
      "cell_type": "markdown",
      "metadata": {
        "id": "hnpIBL-kO6Hp"
      },
      "source": [
        "Test the model with a random text\n"
      ]
    },
    {
      "cell_type": "code",
      "execution_count": null,
      "metadata": {
        "colab": {
          "base_uri": "https://localhost:8080/"
        },
        "id": "NSS9eiaLO9Y7",
        "outputId": "d8253806-6d79-4d10-e738-c218bea6e110"
      },
      "outputs": [
        {
          "output_type": "stream",
          "name": "stdout",
          "text": [
            "Processing...   8001/     3\rProcessing...   8002/     3\rProcessing...   8003/     3\r[['petter', 'mattei', 'love', 'time', 'money', 'visually', 'stun', 'film', 'watch', 'mr', 'mattei', 'offer', 'u', 'vivid', 'portrait', 'human', 'nature', 'movie', 'seem', 'tell', 'u', 'money', 'power', 'success', 'people'], ['movie', 'wa', 'terrible', 'plot', 'wa', 'predictable', 'act', 'wa', 'stiff', 'wait', 'end', 'waste', 'time'], ['incredible', 'cinematic', 'experience', 'storytelling', 'wa', 'brilliant', 'visuals', 'breathtaking', 'one', 'best', 'film', 'see', 'year']]\n",
            "Vectorizing sentences... (done)\n",
            "\u001b[1m1/1\u001b[0m \u001b[32m━━━━━━━━━━━━━━━━━━━━\u001b[0m\u001b[37m\u001b[0m \u001b[1m1s\u001b[0m 727ms/step\n",
            "Predicted positive with a probability of 0.9985 for review: Petter Mattei's 'Love in the Time of Money' is a visually stunning film to watch. Mr. Mattei offers us a vivid portrait about human nature. This is a movie that seems to be telling us what money, power and success do to people.\n",
            "Predicted negative with a probability of 0.0135 for review: The movie was terrible. The plot was predictable, the acting was stiff, and I couldn't wait for it to end. A waste of time.\n",
            "Predicted positive with a probability of 0.9993 for review: An incredible cinematic experience. The storytelling was brilliant, and the visuals were breathtaking. One of the best films I've seen in years.\n"
          ]
        }
      ],
      "source": [
        "test_samples = []\n",
        "\n",
        "# Define a few sample reviews\n",
        "review1 = \"Petter Mattei's 'Love in the Time of Money' is a visually stunning film to watch. Mr. Mattei offers us a vivid portrait about human nature. This is a movie that seems to be telling us what money, power and success do to people.\"\n",
        "review2 = \"The movie was terrible. The plot was predictable, the acting was stiff, and I couldn't wait for it to end. A waste of time.\"\n",
        "review3 = \"An incredible cinematic experience. The storytelling was brilliant, and the visuals were breathtaking. One of the best films I've seen in years.\"\n",
        "\n",
        "# Append the reviews to the test_samples list\n",
        "test_samples.append(review1)\n",
        "test_samples.append(review2)\n",
        "test_samples.append(review3)\n",
        "\n",
        "# Preprocess the reviews\n",
        "test_samples_preprocess = list(map(lambda x: preprocess(x, len(test_samples)), test_samples))\n",
        "print(test_samples_preprocess)\n",
        "\n",
        "# Convert to bigrams and trigrams\n",
        "test_data_bigrams = trigrams[bigrams[test_samples_preprocess]]\n",
        "\n",
        "# Vectorize the reviews using the trained model's vocabulary\n",
        "test_data_pad = pad_sequences(\n",
        "    sequences=vectorize_data(test_data_bigrams, vocab=trigram_model.wv.key_to_index),\n",
        "    maxlen=input_length,\n",
        "    padding='post'\n",
        ")\n",
        "\n",
        "# Get predictions for the reviews\n",
        "predictions = model1.predict(test_data_pad)\n",
        "\n",
        "# Print out the predicted sentiment for each review\n",
        "for (t, p) in zip(test_samples, predictions):\n",
        "    prediction_string = \"positive\"\n",
        "    if p < 0.5:\n",
        "        prediction_string = \"negative\"\n",
        "    print(f\"Predicted {prediction_string} with a probability of {p[0]:.4f} for review: {t}\")\n"
      ]
    }
  ],
  "metadata": {
    "accelerator": "GPU",
    "colab": {
      "gpuType": "T4",
      "provenance": [],
      "collapsed_sections": [
        "VRxTbMIXKaza"
      ],
      "include_colab_link": true
    },
    "kernelspec": {
      "display_name": "Python 3",
      "name": "python3"
    }
  },
  "nbformat": 4,
  "nbformat_minor": 0
}